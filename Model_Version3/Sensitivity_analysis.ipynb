{
 "cells": [
  {
   "cell_type": "code",
   "execution_count": 1,
   "id": "1cb20eca",
   "metadata": {},
   "outputs": [
    {
     "name": "stderr",
     "output_type": "stream",
     "text": [
      "c:\\Users\\sjuul\\anaconda3\\envs\\afstuderen2025\\Lib\\site-packages\\tqdm\\auto.py:21: TqdmWarning: IProgress not found. Please update jupyter and ipywidgets. See https://ipywidgets.readthedocs.io/en/stable/user_install.html\n",
      "  from .autonotebook import tqdm as notebook_tqdm\n"
     ]
    }
   ],
   "source": [
    "from Model3 import RiverDeltaModel\n",
    "import matplotlib.pyplot as plt\n",
    "import networkx as nx\n",
    "import warnings \n",
    "import copy\n",
    "import matplotlib.lines as mlines"
   ]
  },
  {
   "cell_type": "code",
   "execution_count": 55,
   "id": "d9265e1e",
   "metadata": {},
   "outputs": [],
   "source": [
    "import pandas as pd\n",
    "def run_scenario_full(scenario_name, salinity_low, salinity_high, n_runs=10, max_steps=300):\n",
    "    results = []\n",
    "\n",
    "    for seed in range(n_runs):\n",
    "        model = RiverDeltaModel(seed=seed, salinity_low=salinity_low, salinity_high=salinity_high)\n",
    "\n",
    "        for _ in range(301):\n",
    "            model.step()\n",
    "\n",
    "        # Agent data\n",
    "        agent_data = model.datacollector.get_agent_vars_dataframe().reset_index()\n",
    "        step300_agents = agent_data[agent_data[\"Step\"] == 300]\n",
    "        crop_counts = step300_agents[\"Crop_type\"].value_counts()\n",
    "\n",
    "        # Model data\n",
    "        # Model-level data\n",
    "        model_data = model.datacollector.get_model_vars_dataframe()\n",
    "        model_data[\"Step\"] = model_data.index\n",
    "        if max_steps in model_data.index:\n",
    "            step_model_data = model_data.loc[[max_steps]]\n",
    "        else:\n",
    "            step_model_data = model_data.tail(1)\n",
    "\n",
    "        if not step_model_data.empty:\n",
    "            data_row = step_model_data.iloc[0].to_dict()\n",
    "        else:\n",
    "            data_row = {}\n",
    "\n",
    "        data_row.update({\n",
    "            \"Scenario\": scenario_name,\n",
    "            \"Seed\": seed,\n",
    "        })\n",
    "\n",
    "        results.append({\n",
    "            \"Scenario\": scenario_name,\n",
    "            \"Seed\": seed,\n",
    "            # Agent-level info\n",
    "            \"Rice\": crop_counts.get(\"Rice\", 0),\n",
    "            \"Annual crops\": crop_counts.get(\"Annual crops\", 0),\n",
    "            \"Perennial crops\": crop_counts.get(\"Perennial crops\", 0),\n",
    "            \"Aquaculture\": crop_counts.get(\"Aquaculture\", 0)\n",
    "        })\n",
    "\n",
    "        results.append(data_row)\n",
    "\n",
    "    return pd.DataFrame(results)\n"
   ]
  },
  {
   "cell_type": "code",
   "execution_count": 56,
   "id": "194a1bdb",
   "metadata": {},
   "outputs": [
    {
     "name": "stdout",
     "output_type": "stream",
     "text": [
      "There are 0 agents unassigned!!\n"
     ]
    },
    {
     "name": "stderr",
     "output_type": "stream",
     "text": [
      "c:\\Users\\sjuul\\OneDrive\\Documenten\\EPA\\THESIS\\Thesis\\Model_Version3\\Model3.py:1141: FutureWarning: The 'seed' keyword is deprecated. Use 'rng' instead.\n",
      "  candidate_points = districts_polygon.sample_points(size=len(land_agents)*50, seed=seed)\n"
     ]
    },
    {
     "name": "stdout",
     "output_type": "stream",
     "text": [
      "neighbor is rijk en neemt land over\n",
      "shock is happening!!\n",
      "shock is happening!!\n",
      "There are 0 agents unassigned!!\n"
     ]
    },
    {
     "name": "stderr",
     "output_type": "stream",
     "text": [
      "c:\\Users\\sjuul\\OneDrive\\Documenten\\EPA\\THESIS\\Thesis\\Model_Version3\\Model3.py:1141: FutureWarning: The 'seed' keyword is deprecated. Use 'rng' instead.\n",
      "  candidate_points = districts_polygon.sample_points(size=len(land_agents)*50, seed=seed)\n"
     ]
    },
    {
     "name": "stdout",
     "output_type": "stream",
     "text": [
      "neighbor is rijk en neemt land over\n",
      "neighbor is rijk en neemt land over\n",
      "neighbor is rijk en neemt land over\n",
      "neighbor is rijk en neemt land over\n",
      "neighbor is rijk en neemt land over\n",
      "shock is happening!!\n",
      "shock is happening!!\n",
      "There are 0 agents unassigned!!\n"
     ]
    },
    {
     "name": "stderr",
     "output_type": "stream",
     "text": [
      "c:\\Users\\sjuul\\OneDrive\\Documenten\\EPA\\THESIS\\Thesis\\Model_Version3\\Model3.py:1141: FutureWarning: The 'seed' keyword is deprecated. Use 'rng' instead.\n",
      "  candidate_points = districts_polygon.sample_points(size=len(land_agents)*50, seed=seed)\n"
     ]
    },
    {
     "name": "stdout",
     "output_type": "stream",
     "text": [
      "neighbor is rijk en neemt land over\n",
      "shock is happening!!\n",
      "shock is happening!!\n",
      "There are 0 agents unassigned!!\n"
     ]
    },
    {
     "name": "stderr",
     "output_type": "stream",
     "text": [
      "c:\\Users\\sjuul\\OneDrive\\Documenten\\EPA\\THESIS\\Thesis\\Model_Version3\\Model3.py:1141: FutureWarning: The 'seed' keyword is deprecated. Use 'rng' instead.\n",
      "  candidate_points = districts_polygon.sample_points(size=len(land_agents)*50, seed=seed)\n"
     ]
    },
    {
     "name": "stdout",
     "output_type": "stream",
     "text": [
      "neighbor is rijk en neemt land over\n",
      "neighbor is rijk en neemt land over\n",
      "neighbor is rijk en neemt land over\n",
      "shock is happening!!\n",
      "shock is happening!!\n",
      "There are 0 agents unassigned!!\n"
     ]
    },
    {
     "name": "stderr",
     "output_type": "stream",
     "text": [
      "c:\\Users\\sjuul\\OneDrive\\Documenten\\EPA\\THESIS\\Thesis\\Model_Version3\\Model3.py:1141: FutureWarning: The 'seed' keyword is deprecated. Use 'rng' instead.\n",
      "  candidate_points = districts_polygon.sample_points(size=len(land_agents)*50, seed=seed)\n"
     ]
    },
    {
     "name": "stdout",
     "output_type": "stream",
     "text": [
      "neighbor is rijk en neemt land over\n",
      "neighbor is rijk en neemt land over\n",
      "neighbor is rijk en neemt land over\n",
      "neighbor is rijk en neemt land over\n",
      "shock is happening!!\n",
      "shock is happening!!\n",
      "There are 0 agents unassigned!!\n"
     ]
    },
    {
     "name": "stderr",
     "output_type": "stream",
     "text": [
      "c:\\Users\\sjuul\\OneDrive\\Documenten\\EPA\\THESIS\\Thesis\\Model_Version3\\Model3.py:1141: FutureWarning: The 'seed' keyword is deprecated. Use 'rng' instead.\n",
      "  candidate_points = districts_polygon.sample_points(size=len(land_agents)*50, seed=seed)\n"
     ]
    },
    {
     "name": "stdout",
     "output_type": "stream",
     "text": [
      "neighbor is rijk en neemt land over\n",
      "neighbor is rijk en neemt land over\n",
      "neighbor is rijk en neemt land over\n",
      "neighbor is rijk en neemt land over\n",
      "shock is happening!!\n",
      "shock is happening!!\n",
      "There are 0 agents unassigned!!\n"
     ]
    },
    {
     "name": "stderr",
     "output_type": "stream",
     "text": [
      "c:\\Users\\sjuul\\OneDrive\\Documenten\\EPA\\THESIS\\Thesis\\Model_Version3\\Model3.py:1141: FutureWarning: The 'seed' keyword is deprecated. Use 'rng' instead.\n",
      "  candidate_points = districts_polygon.sample_points(size=len(land_agents)*50, seed=seed)\n"
     ]
    },
    {
     "name": "stdout",
     "output_type": "stream",
     "text": [
      "shock is happening!!\n",
      "shock is happening!!\n",
      "There are 0 agents unassigned!!\n"
     ]
    },
    {
     "name": "stderr",
     "output_type": "stream",
     "text": [
      "c:\\Users\\sjuul\\OneDrive\\Documenten\\EPA\\THESIS\\Thesis\\Model_Version3\\Model3.py:1141: FutureWarning: The 'seed' keyword is deprecated. Use 'rng' instead.\n",
      "  candidate_points = districts_polygon.sample_points(size=len(land_agents)*50, seed=seed)\n"
     ]
    },
    {
     "name": "stdout",
     "output_type": "stream",
     "text": [
      "neighbor is rijk en neemt land over\n",
      "neighbor is rijk en neemt land over\n",
      "neighbor is rijk en neemt land over\n",
      "neighbor is rijk en neemt land over\n",
      "neighbor is rijk en neemt land over\n",
      "neighbor is rijk en neemt land over\n",
      "shock is happening!!\n",
      "neighbor is rijk en neemt land over\n",
      "shock is happening!!\n",
      "There are 0 agents unassigned!!\n"
     ]
    },
    {
     "name": "stderr",
     "output_type": "stream",
     "text": [
      "c:\\Users\\sjuul\\OneDrive\\Documenten\\EPA\\THESIS\\Thesis\\Model_Version3\\Model3.py:1141: FutureWarning: The 'seed' keyword is deprecated. Use 'rng' instead.\n",
      "  candidate_points = districts_polygon.sample_points(size=len(land_agents)*50, seed=seed)\n"
     ]
    },
    {
     "name": "stdout",
     "output_type": "stream",
     "text": [
      "shock is happening!!\n",
      "shock is happening!!\n",
      "There are 0 agents unassigned!!\n"
     ]
    },
    {
     "name": "stderr",
     "output_type": "stream",
     "text": [
      "c:\\Users\\sjuul\\OneDrive\\Documenten\\EPA\\THESIS\\Thesis\\Model_Version3\\Model3.py:1141: FutureWarning: The 'seed' keyword is deprecated. Use 'rng' instead.\n",
      "  candidate_points = districts_polygon.sample_points(size=len(land_agents)*50, seed=seed)\n"
     ]
    },
    {
     "name": "stdout",
     "output_type": "stream",
     "text": [
      "shock is happening!!\n",
      "shock is happening!!\n",
      "There are 0 agents unassigned!!\n"
     ]
    },
    {
     "name": "stderr",
     "output_type": "stream",
     "text": [
      "c:\\Users\\sjuul\\OneDrive\\Documenten\\EPA\\THESIS\\Thesis\\Model_Version3\\Model3.py:1141: FutureWarning: The 'seed' keyword is deprecated. Use 'rng' instead.\n",
      "  candidate_points = districts_polygon.sample_points(size=len(land_agents)*50, seed=seed)\n"
     ]
    },
    {
     "name": "stdout",
     "output_type": "stream",
     "text": [
      "neighbor is rijk en neemt land over\n",
      "shock is happening!!\n",
      "shock is happening!!\n",
      "There are 0 agents unassigned!!\n"
     ]
    },
    {
     "name": "stderr",
     "output_type": "stream",
     "text": [
      "c:\\Users\\sjuul\\OneDrive\\Documenten\\EPA\\THESIS\\Thesis\\Model_Version3\\Model3.py:1141: FutureWarning: The 'seed' keyword is deprecated. Use 'rng' instead.\n",
      "  candidate_points = districts_polygon.sample_points(size=len(land_agents)*50, seed=seed)\n"
     ]
    },
    {
     "name": "stdout",
     "output_type": "stream",
     "text": [
      "neighbor is rijk en neemt land over\n",
      "neighbor is rijk en neemt land over\n",
      "neighbor is rijk en neemt land over\n",
      "neighbor is rijk en neemt land over\n",
      "shock is happening!!\n",
      "shock is happening!!\n",
      "There are 0 agents unassigned!!\n"
     ]
    },
    {
     "name": "stderr",
     "output_type": "stream",
     "text": [
      "c:\\Users\\sjuul\\OneDrive\\Documenten\\EPA\\THESIS\\Thesis\\Model_Version3\\Model3.py:1141: FutureWarning: The 'seed' keyword is deprecated. Use 'rng' instead.\n",
      "  candidate_points = districts_polygon.sample_points(size=len(land_agents)*50, seed=seed)\n"
     ]
    },
    {
     "name": "stdout",
     "output_type": "stream",
     "text": [
      "neighbor is rijk en neemt land over\n",
      "shock is happening!!\n",
      "shock is happening!!\n",
      "There are 0 agents unassigned!!\n"
     ]
    },
    {
     "name": "stderr",
     "output_type": "stream",
     "text": [
      "c:\\Users\\sjuul\\OneDrive\\Documenten\\EPA\\THESIS\\Thesis\\Model_Version3\\Model3.py:1141: FutureWarning: The 'seed' keyword is deprecated. Use 'rng' instead.\n",
      "  candidate_points = districts_polygon.sample_points(size=len(land_agents)*50, seed=seed)\n"
     ]
    },
    {
     "name": "stdout",
     "output_type": "stream",
     "text": [
      "neighbor is rijk en neemt land over\n",
      "neighbor is rijk en neemt land over\n",
      "shock is happening!!\n",
      "shock is happening!!\n",
      "There are 0 agents unassigned!!\n"
     ]
    },
    {
     "name": "stderr",
     "output_type": "stream",
     "text": [
      "c:\\Users\\sjuul\\OneDrive\\Documenten\\EPA\\THESIS\\Thesis\\Model_Version3\\Model3.py:1141: FutureWarning: The 'seed' keyword is deprecated. Use 'rng' instead.\n",
      "  candidate_points = districts_polygon.sample_points(size=len(land_agents)*50, seed=seed)\n"
     ]
    },
    {
     "name": "stdout",
     "output_type": "stream",
     "text": [
      "neighbor is rijk en neemt land over\n",
      "neighbor is rijk en neemt land over\n",
      "neighbor is rijk en neemt land over\n",
      "neighbor is rijk en neemt land over\n",
      "shock is happening!!\n",
      "shock is happening!!\n",
      "There are 0 agents unassigned!!\n"
     ]
    },
    {
     "name": "stderr",
     "output_type": "stream",
     "text": [
      "c:\\Users\\sjuul\\OneDrive\\Documenten\\EPA\\THESIS\\Thesis\\Model_Version3\\Model3.py:1141: FutureWarning: The 'seed' keyword is deprecated. Use 'rng' instead.\n",
      "  candidate_points = districts_polygon.sample_points(size=len(land_agents)*50, seed=seed)\n"
     ]
    },
    {
     "name": "stdout",
     "output_type": "stream",
     "text": [
      "neighbor is rijk en neemt land over\n",
      "neighbor is rijk en neemt land over\n",
      "neighbor is rijk en neemt land over\n",
      "neighbor is rijk en neemt land over\n",
      "shock is happening!!\n",
      "shock is happening!!\n",
      "There are 0 agents unassigned!!\n"
     ]
    },
    {
     "name": "stderr",
     "output_type": "stream",
     "text": [
      "c:\\Users\\sjuul\\OneDrive\\Documenten\\EPA\\THESIS\\Thesis\\Model_Version3\\Model3.py:1141: FutureWarning: The 'seed' keyword is deprecated. Use 'rng' instead.\n",
      "  candidate_points = districts_polygon.sample_points(size=len(land_agents)*50, seed=seed)\n"
     ]
    },
    {
     "name": "stdout",
     "output_type": "stream",
     "text": [
      "shock is happening!!\n",
      "shock is happening!!\n",
      "There are 0 agents unassigned!!\n"
     ]
    },
    {
     "name": "stderr",
     "output_type": "stream",
     "text": [
      "c:\\Users\\sjuul\\OneDrive\\Documenten\\EPA\\THESIS\\Thesis\\Model_Version3\\Model3.py:1141: FutureWarning: The 'seed' keyword is deprecated. Use 'rng' instead.\n",
      "  candidate_points = districts_polygon.sample_points(size=len(land_agents)*50, seed=seed)\n"
     ]
    },
    {
     "name": "stdout",
     "output_type": "stream",
     "text": [
      "neighbor is rijk en neemt land over\n",
      "neighbor is rijk en neemt land over\n",
      "neighbor is rijk en neemt land over\n",
      "neighbor is rijk en neemt land over\n",
      "neighbor is rijk en neemt land over\n",
      "neighbor is rijk en neemt land over\n",
      "shock is happening!!\n",
      "neighbor is rijk en neemt land over\n",
      "shock is happening!!\n",
      "There are 0 agents unassigned!!\n"
     ]
    },
    {
     "name": "stderr",
     "output_type": "stream",
     "text": [
      "c:\\Users\\sjuul\\OneDrive\\Documenten\\EPA\\THESIS\\Thesis\\Model_Version3\\Model3.py:1141: FutureWarning: The 'seed' keyword is deprecated. Use 'rng' instead.\n",
      "  candidate_points = districts_polygon.sample_points(size=len(land_agents)*50, seed=seed)\n"
     ]
    },
    {
     "name": "stdout",
     "output_type": "stream",
     "text": [
      "shock is happening!!\n",
      "shock is happening!!\n",
      "There are 0 agents unassigned!!\n"
     ]
    },
    {
     "name": "stderr",
     "output_type": "stream",
     "text": [
      "c:\\Users\\sjuul\\OneDrive\\Documenten\\EPA\\THESIS\\Thesis\\Model_Version3\\Model3.py:1141: FutureWarning: The 'seed' keyword is deprecated. Use 'rng' instead.\n",
      "  candidate_points = districts_polygon.sample_points(size=len(land_agents)*50, seed=seed)\n"
     ]
    },
    {
     "name": "stdout",
     "output_type": "stream",
     "text": [
      "shock is happening!!\n",
      "shock is happening!!\n",
      "There are 0 agents unassigned!!\n"
     ]
    },
    {
     "name": "stderr",
     "output_type": "stream",
     "text": [
      "c:\\Users\\sjuul\\OneDrive\\Documenten\\EPA\\THESIS\\Thesis\\Model_Version3\\Model3.py:1141: FutureWarning: The 'seed' keyword is deprecated. Use 'rng' instead.\n",
      "  candidate_points = districts_polygon.sample_points(size=len(land_agents)*50, seed=seed)\n"
     ]
    },
    {
     "name": "stdout",
     "output_type": "stream",
     "text": [
      "shock is happening!!\n",
      "shock is happening!!\n",
      "There are 0 agents unassigned!!\n"
     ]
    },
    {
     "name": "stderr",
     "output_type": "stream",
     "text": [
      "c:\\Users\\sjuul\\OneDrive\\Documenten\\EPA\\THESIS\\Thesis\\Model_Version3\\Model3.py:1141: FutureWarning: The 'seed' keyword is deprecated. Use 'rng' instead.\n",
      "  candidate_points = districts_polygon.sample_points(size=len(land_agents)*50, seed=seed)\n"
     ]
    },
    {
     "name": "stdout",
     "output_type": "stream",
     "text": [
      "neighbor is rijk en neemt land over\n",
      "shock is happening!!\n",
      "shock is happening!!\n",
      "There are 0 agents unassigned!!\n"
     ]
    },
    {
     "name": "stderr",
     "output_type": "stream",
     "text": [
      "c:\\Users\\sjuul\\OneDrive\\Documenten\\EPA\\THESIS\\Thesis\\Model_Version3\\Model3.py:1141: FutureWarning: The 'seed' keyword is deprecated. Use 'rng' instead.\n",
      "  candidate_points = districts_polygon.sample_points(size=len(land_agents)*50, seed=seed)\n"
     ]
    },
    {
     "name": "stdout",
     "output_type": "stream",
     "text": [
      "neighbor is rijk en neemt land over\n",
      "shock is happening!!\n",
      "shock is happening!!\n",
      "There are 0 agents unassigned!!\n"
     ]
    },
    {
     "name": "stderr",
     "output_type": "stream",
     "text": [
      "c:\\Users\\sjuul\\OneDrive\\Documenten\\EPA\\THESIS\\Thesis\\Model_Version3\\Model3.py:1141: FutureWarning: The 'seed' keyword is deprecated. Use 'rng' instead.\n",
      "  candidate_points = districts_polygon.sample_points(size=len(land_agents)*50, seed=seed)\n"
     ]
    },
    {
     "name": "stdout",
     "output_type": "stream",
     "text": [
      "shock is happening!!\n",
      "shock is happening!!\n",
      "There are 0 agents unassigned!!\n"
     ]
    },
    {
     "name": "stderr",
     "output_type": "stream",
     "text": [
      "c:\\Users\\sjuul\\OneDrive\\Documenten\\EPA\\THESIS\\Thesis\\Model_Version3\\Model3.py:1141: FutureWarning: The 'seed' keyword is deprecated. Use 'rng' instead.\n",
      "  candidate_points = districts_polygon.sample_points(size=len(land_agents)*50, seed=seed)\n"
     ]
    },
    {
     "name": "stdout",
     "output_type": "stream",
     "text": [
      "neighbor is rijk en neemt land over\n",
      "neighbor is rijk en neemt land over\n",
      "neighbor is rijk en neemt land over\n",
      "neighbor is rijk en neemt land over\n",
      "shock is happening!!\n",
      "shock is happening!!\n",
      "There are 0 agents unassigned!!\n"
     ]
    },
    {
     "name": "stderr",
     "output_type": "stream",
     "text": [
      "c:\\Users\\sjuul\\OneDrive\\Documenten\\EPA\\THESIS\\Thesis\\Model_Version3\\Model3.py:1141: FutureWarning: The 'seed' keyword is deprecated. Use 'rng' instead.\n",
      "  candidate_points = districts_polygon.sample_points(size=len(land_agents)*50, seed=seed)\n"
     ]
    },
    {
     "name": "stdout",
     "output_type": "stream",
     "text": [
      "neighbor is rijk en neemt land over\n",
      "neighbor is rijk en neemt land over\n",
      "shock is happening!!\n",
      "shock is happening!!\n",
      "There are 0 agents unassigned!!\n"
     ]
    },
    {
     "name": "stderr",
     "output_type": "stream",
     "text": [
      "c:\\Users\\sjuul\\OneDrive\\Documenten\\EPA\\THESIS\\Thesis\\Model_Version3\\Model3.py:1141: FutureWarning: The 'seed' keyword is deprecated. Use 'rng' instead.\n",
      "  candidate_points = districts_polygon.sample_points(size=len(land_agents)*50, seed=seed)\n"
     ]
    },
    {
     "name": "stdout",
     "output_type": "stream",
     "text": [
      "shock is happening!!\n",
      "shock is happening!!\n",
      "There are 0 agents unassigned!!\n"
     ]
    },
    {
     "name": "stderr",
     "output_type": "stream",
     "text": [
      "c:\\Users\\sjuul\\OneDrive\\Documenten\\EPA\\THESIS\\Thesis\\Model_Version3\\Model3.py:1141: FutureWarning: The 'seed' keyword is deprecated. Use 'rng' instead.\n",
      "  candidate_points = districts_polygon.sample_points(size=len(land_agents)*50, seed=seed)\n"
     ]
    },
    {
     "name": "stdout",
     "output_type": "stream",
     "text": [
      "neighbor is rijk en neemt land over\n",
      "neighbor is rijk en neemt land over\n",
      "neighbor is rijk en neemt land over\n",
      "shock is happening!!\n",
      "shock is happening!!\n",
      "There are 0 agents unassigned!!\n"
     ]
    },
    {
     "name": "stderr",
     "output_type": "stream",
     "text": [
      "c:\\Users\\sjuul\\OneDrive\\Documenten\\EPA\\THESIS\\Thesis\\Model_Version3\\Model3.py:1141: FutureWarning: The 'seed' keyword is deprecated. Use 'rng' instead.\n",
      "  candidate_points = districts_polygon.sample_points(size=len(land_agents)*50, seed=seed)\n"
     ]
    },
    {
     "name": "stdout",
     "output_type": "stream",
     "text": [
      "shock is happening!!\n",
      "shock is happening!!\n",
      "There are 0 agents unassigned!!\n"
     ]
    },
    {
     "name": "stderr",
     "output_type": "stream",
     "text": [
      "c:\\Users\\sjuul\\OneDrive\\Documenten\\EPA\\THESIS\\Thesis\\Model_Version3\\Model3.py:1141: FutureWarning: The 'seed' keyword is deprecated. Use 'rng' instead.\n",
      "  candidate_points = districts_polygon.sample_points(size=len(land_agents)*50, seed=seed)\n"
     ]
    },
    {
     "name": "stdout",
     "output_type": "stream",
     "text": [
      "neighbor is rijk en neemt land over\n",
      "neighbor is rijk en neemt land over\n",
      "neighbor is rijk en neemt land over\n",
      "shock is happening!!\n",
      "shock is happening!!\n"
     ]
    }
   ],
   "source": [
    "df_low = run_scenario_full(\"Low salinity\", salinity_low=True, salinity_high=False)\n",
    "df_medium = run_scenario_full(\"Medium salinity\", salinity_low=False, salinity_high=False)\n",
    "df_high = run_scenario_full(\"High salinity\", salinity_low=False, salinity_high=True)\n",
    "\n",
    "all_full = pd.concat([df_low, df_medium, df_high], ignore_index=True)\n"
   ]
  },
  {
   "cell_type": "code",
   "execution_count": 57,
   "id": "bf9183d5",
   "metadata": {},
   "outputs": [
    {
     "data": {
      "text/html": [
       "<div>\n",
       "<style scoped>\n",
       "    .dataframe tbody tr th:only-of-type {\n",
       "        vertical-align: middle;\n",
       "    }\n",
       "\n",
       "    .dataframe tbody tr th {\n",
       "        vertical-align: top;\n",
       "    }\n",
       "\n",
       "    .dataframe thead th {\n",
       "        text-align: right;\n",
       "    }\n",
       "</style>\n",
       "<table border=\"1\" class=\"dataframe\">\n",
       "  <thead>\n",
       "    <tr style=\"text-align: right;\">\n",
       "      <th></th>\n",
       "      <th>Scenario</th>\n",
       "      <th>Seed</th>\n",
       "      <th>Rice</th>\n",
       "      <th>Annual crops</th>\n",
       "      <th>Perennial crops</th>\n",
       "      <th>Aquaculture</th>\n",
       "      <th>Average_Livelihood</th>\n",
       "      <th>Num_household_members</th>\n",
       "      <th>Migrated_households</th>\n",
       "      <th>Migrated_members</th>\n",
       "      <th>Migrated_individuals</th>\n",
       "      <th>Died agents</th>\n",
       "      <th>Child births</th>\n",
       "      <th>Step</th>\n",
       "    </tr>\n",
       "  </thead>\n",
       "  <tbody>\n",
       "    <tr>\n",
       "      <th>0</th>\n",
       "      <td>High salinity</td>\n",
       "      <td>0</td>\n",
       "      <td>4.0</td>\n",
       "      <td>35.0</td>\n",
       "      <td>2.0</td>\n",
       "      <td>0.0</td>\n",
       "      <td>0.119382</td>\n",
       "      <td>520.0</td>\n",
       "      <td>142.0</td>\n",
       "      <td>486.0</td>\n",
       "      <td>31.0</td>\n",
       "      <td>106.0</td>\n",
       "      <td>143.0</td>\n",
       "      <td>73.0</td>\n",
       "    </tr>\n",
       "    <tr>\n",
       "      <th>1</th>\n",
       "      <td>High salinity</td>\n",
       "      <td>1</td>\n",
       "      <td>6.0</td>\n",
       "      <td>28.0</td>\n",
       "      <td>2.0</td>\n",
       "      <td>1.0</td>\n",
       "      <td>0.197209</td>\n",
       "      <td>635.0</td>\n",
       "      <td>118.0</td>\n",
       "      <td>408.0</td>\n",
       "      <td>31.0</td>\n",
       "      <td>109.0</td>\n",
       "      <td>183.0</td>\n",
       "      <td>73.0</td>\n",
       "    </tr>\n",
       "    <tr>\n",
       "      <th>2</th>\n",
       "      <td>High salinity</td>\n",
       "      <td>2</td>\n",
       "      <td>7.0</td>\n",
       "      <td>36.0</td>\n",
       "      <td>2.0</td>\n",
       "      <td>0.0</td>\n",
       "      <td>0.236911</td>\n",
       "      <td>687.0</td>\n",
       "      <td>116.0</td>\n",
       "      <td>382.0</td>\n",
       "      <td>32.0</td>\n",
       "      <td>110.0</td>\n",
       "      <td>210.0</td>\n",
       "      <td>73.0</td>\n",
       "    </tr>\n",
       "    <tr>\n",
       "      <th>3</th>\n",
       "      <td>High salinity</td>\n",
       "      <td>3</td>\n",
       "      <td>2.0</td>\n",
       "      <td>40.0</td>\n",
       "      <td>5.0</td>\n",
       "      <td>0.0</td>\n",
       "      <td>0.161066</td>\n",
       "      <td>602.0</td>\n",
       "      <td>112.0</td>\n",
       "      <td>400.0</td>\n",
       "      <td>46.0</td>\n",
       "      <td>93.0</td>\n",
       "      <td>141.0</td>\n",
       "      <td>73.0</td>\n",
       "    </tr>\n",
       "    <tr>\n",
       "      <th>4</th>\n",
       "      <td>High salinity</td>\n",
       "      <td>4</td>\n",
       "      <td>6.0</td>\n",
       "      <td>36.0</td>\n",
       "      <td>3.0</td>\n",
       "      <td>1.0</td>\n",
       "      <td>0.235941</td>\n",
       "      <td>605.0</td>\n",
       "      <td>119.0</td>\n",
       "      <td>412.0</td>\n",
       "      <td>30.0</td>\n",
       "      <td>118.0</td>\n",
       "      <td>164.0</td>\n",
       "      <td>73.0</td>\n",
       "    </tr>\n",
       "    <tr>\n",
       "      <th>5</th>\n",
       "      <td>High salinity</td>\n",
       "      <td>5</td>\n",
       "      <td>2.0</td>\n",
       "      <td>40.0</td>\n",
       "      <td>5.0</td>\n",
       "      <td>2.0</td>\n",
       "      <td>0.182034</td>\n",
       "      <td>596.0</td>\n",
       "      <td>117.0</td>\n",
       "      <td>413.0</td>\n",
       "      <td>48.0</td>\n",
       "      <td>106.0</td>\n",
       "      <td>163.0</td>\n",
       "      <td>73.0</td>\n",
       "    </tr>\n",
       "    <tr>\n",
       "      <th>6</th>\n",
       "      <td>High salinity</td>\n",
       "      <td>6</td>\n",
       "      <td>2.0</td>\n",
       "      <td>34.0</td>\n",
       "      <td>3.0</td>\n",
       "      <td>0.0</td>\n",
       "      <td>0.211632</td>\n",
       "      <td>600.0</td>\n",
       "      <td>120.0</td>\n",
       "      <td>411.0</td>\n",
       "      <td>22.0</td>\n",
       "      <td>127.0</td>\n",
       "      <td>159.0</td>\n",
       "      <td>73.0</td>\n",
       "    </tr>\n",
       "    <tr>\n",
       "      <th>7</th>\n",
       "      <td>High salinity</td>\n",
       "      <td>7</td>\n",
       "      <td>5.0</td>\n",
       "      <td>34.0</td>\n",
       "      <td>3.0</td>\n",
       "      <td>0.0</td>\n",
       "      <td>0.182872</td>\n",
       "      <td>563.0</td>\n",
       "      <td>127.0</td>\n",
       "      <td>470.0</td>\n",
       "      <td>38.0</td>\n",
       "      <td>96.0</td>\n",
       "      <td>167.0</td>\n",
       "      <td>73.0</td>\n",
       "    </tr>\n",
       "    <tr>\n",
       "      <th>8</th>\n",
       "      <td>High salinity</td>\n",
       "      <td>8</td>\n",
       "      <td>2.0</td>\n",
       "      <td>39.0</td>\n",
       "      <td>1.0</td>\n",
       "      <td>0.0</td>\n",
       "      <td>0.101446</td>\n",
       "      <td>673.0</td>\n",
       "      <td>105.0</td>\n",
       "      <td>368.0</td>\n",
       "      <td>34.0</td>\n",
       "      <td>116.0</td>\n",
       "      <td>190.0</td>\n",
       "      <td>73.0</td>\n",
       "    </tr>\n",
       "    <tr>\n",
       "      <th>9</th>\n",
       "      <td>High salinity</td>\n",
       "      <td>9</td>\n",
       "      <td>5.0</td>\n",
       "      <td>37.0</td>\n",
       "      <td>3.0</td>\n",
       "      <td>2.0</td>\n",
       "      <td>0.225887</td>\n",
       "      <td>611.0</td>\n",
       "      <td>106.0</td>\n",
       "      <td>396.0</td>\n",
       "      <td>62.0</td>\n",
       "      <td>113.0</td>\n",
       "      <td>182.0</td>\n",
       "      <td>73.0</td>\n",
       "    </tr>\n",
       "    <tr>\n",
       "      <th>10</th>\n",
       "      <td>Low salinity</td>\n",
       "      <td>0</td>\n",
       "      <td>16.0</td>\n",
       "      <td>52.0</td>\n",
       "      <td>0.0</td>\n",
       "      <td>0.0</td>\n",
       "      <td>0.345670</td>\n",
       "      <td>692.0</td>\n",
       "      <td>96.0</td>\n",
       "      <td>349.0</td>\n",
       "      <td>50.0</td>\n",
       "      <td>134.0</td>\n",
       "      <td>225.0</td>\n",
       "      <td>73.0</td>\n",
       "    </tr>\n",
       "    <tr>\n",
       "      <th>11</th>\n",
       "      <td>Low salinity</td>\n",
       "      <td>1</td>\n",
       "      <td>21.0</td>\n",
       "      <td>36.0</td>\n",
       "      <td>0.0</td>\n",
       "      <td>0.0</td>\n",
       "      <td>0.391691</td>\n",
       "      <td>676.0</td>\n",
       "      <td>96.0</td>\n",
       "      <td>343.0</td>\n",
       "      <td>36.0</td>\n",
       "      <td>119.0</td>\n",
       "      <td>174.0</td>\n",
       "      <td>73.0</td>\n",
       "    </tr>\n",
       "    <tr>\n",
       "      <th>12</th>\n",
       "      <td>Low salinity</td>\n",
       "      <td>2</td>\n",
       "      <td>23.0</td>\n",
       "      <td>51.0</td>\n",
       "      <td>0.0</td>\n",
       "      <td>0.0</td>\n",
       "      <td>0.419879</td>\n",
       "      <td>706.0</td>\n",
       "      <td>92.0</td>\n",
       "      <td>331.0</td>\n",
       "      <td>36.0</td>\n",
       "      <td>113.0</td>\n",
       "      <td>186.0</td>\n",
       "      <td>73.0</td>\n",
       "    </tr>\n",
       "    <tr>\n",
       "      <th>13</th>\n",
       "      <td>Low salinity</td>\n",
       "      <td>3</td>\n",
       "      <td>24.0</td>\n",
       "      <td>48.0</td>\n",
       "      <td>0.0</td>\n",
       "      <td>0.0</td>\n",
       "      <td>0.359601</td>\n",
       "      <td>742.0</td>\n",
       "      <td>97.0</td>\n",
       "      <td>325.0</td>\n",
       "      <td>34.0</td>\n",
       "      <td>111.0</td>\n",
       "      <td>212.0</td>\n",
       "      <td>73.0</td>\n",
       "    </tr>\n",
       "    <tr>\n",
       "      <th>14</th>\n",
       "      <td>Low salinity</td>\n",
       "      <td>4</td>\n",
       "      <td>22.0</td>\n",
       "      <td>50.0</td>\n",
       "      <td>1.0</td>\n",
       "      <td>0.0</td>\n",
       "      <td>0.415832</td>\n",
       "      <td>784.0</td>\n",
       "      <td>85.0</td>\n",
       "      <td>270.0</td>\n",
       "      <td>45.0</td>\n",
       "      <td>135.0</td>\n",
       "      <td>232.0</td>\n",
       "      <td>73.0</td>\n",
       "    </tr>\n",
       "    <tr>\n",
       "      <th>15</th>\n",
       "      <td>Low salinity</td>\n",
       "      <td>5</td>\n",
       "      <td>18.0</td>\n",
       "      <td>59.0</td>\n",
       "      <td>0.0</td>\n",
       "      <td>0.0</td>\n",
       "      <td>0.375119</td>\n",
       "      <td>729.0</td>\n",
       "      <td>94.0</td>\n",
       "      <td>335.0</td>\n",
       "      <td>40.0</td>\n",
       "      <td>114.0</td>\n",
       "      <td>218.0</td>\n",
       "      <td>73.0</td>\n",
       "    </tr>\n",
       "    <tr>\n",
       "      <th>16</th>\n",
       "      <td>Low salinity</td>\n",
       "      <td>6</td>\n",
       "      <td>21.0</td>\n",
       "      <td>56.0</td>\n",
       "      <td>0.0</td>\n",
       "      <td>0.0</td>\n",
       "      <td>0.457451</td>\n",
       "      <td>727.0</td>\n",
       "      <td>87.0</td>\n",
       "      <td>295.0</td>\n",
       "      <td>43.0</td>\n",
       "      <td>146.0</td>\n",
       "      <td>210.0</td>\n",
       "      <td>73.0</td>\n",
       "    </tr>\n",
       "    <tr>\n",
       "      <th>17</th>\n",
       "      <td>Low salinity</td>\n",
       "      <td>7</td>\n",
       "      <td>18.0</td>\n",
       "      <td>44.0</td>\n",
       "      <td>0.0</td>\n",
       "      <td>0.0</td>\n",
       "      <td>0.353571</td>\n",
       "      <td>647.0</td>\n",
       "      <td>108.0</td>\n",
       "      <td>395.0</td>\n",
       "      <td>27.0</td>\n",
       "      <td>110.0</td>\n",
       "      <td>179.0</td>\n",
       "      <td>73.0</td>\n",
       "    </tr>\n",
       "    <tr>\n",
       "      <th>18</th>\n",
       "      <td>Low salinity</td>\n",
       "      <td>8</td>\n",
       "      <td>21.0</td>\n",
       "      <td>47.0</td>\n",
       "      <td>0.0</td>\n",
       "      <td>0.0</td>\n",
       "      <td>0.333189</td>\n",
       "      <td>722.0</td>\n",
       "      <td>93.0</td>\n",
       "      <td>312.0</td>\n",
       "      <td>44.0</td>\n",
       "      <td>125.0</td>\n",
       "      <td>203.0</td>\n",
       "      <td>73.0</td>\n",
       "    </tr>\n",
       "    <tr>\n",
       "      <th>19</th>\n",
       "      <td>Low salinity</td>\n",
       "      <td>9</td>\n",
       "      <td>17.0</td>\n",
       "      <td>51.0</td>\n",
       "      <td>0.0</td>\n",
       "      <td>0.0</td>\n",
       "      <td>0.371893</td>\n",
       "      <td>662.0</td>\n",
       "      <td>100.0</td>\n",
       "      <td>366.0</td>\n",
       "      <td>34.0</td>\n",
       "      <td>116.0</td>\n",
       "      <td>178.0</td>\n",
       "      <td>73.0</td>\n",
       "    </tr>\n",
       "    <tr>\n",
       "      <th>20</th>\n",
       "      <td>Medium salinity</td>\n",
       "      <td>0</td>\n",
       "      <td>12.0</td>\n",
       "      <td>51.0</td>\n",
       "      <td>3.0</td>\n",
       "      <td>0.0</td>\n",
       "      <td>0.315127</td>\n",
       "      <td>707.0</td>\n",
       "      <td>103.0</td>\n",
       "      <td>328.0</td>\n",
       "      <td>31.0</td>\n",
       "      <td>130.0</td>\n",
       "      <td>196.0</td>\n",
       "      <td>73.0</td>\n",
       "    </tr>\n",
       "    <tr>\n",
       "      <th>21</th>\n",
       "      <td>Medium salinity</td>\n",
       "      <td>1</td>\n",
       "      <td>17.0</td>\n",
       "      <td>35.0</td>\n",
       "      <td>3.0</td>\n",
       "      <td>0.0</td>\n",
       "      <td>0.377336</td>\n",
       "      <td>724.0</td>\n",
       "      <td>91.0</td>\n",
       "      <td>331.0</td>\n",
       "      <td>34.0</td>\n",
       "      <td>117.0</td>\n",
       "      <td>206.0</td>\n",
       "      <td>73.0</td>\n",
       "    </tr>\n",
       "    <tr>\n",
       "      <th>22</th>\n",
       "      <td>Medium salinity</td>\n",
       "      <td>2</td>\n",
       "      <td>14.0</td>\n",
       "      <td>49.0</td>\n",
       "      <td>10.0</td>\n",
       "      <td>0.0</td>\n",
       "      <td>0.418349</td>\n",
       "      <td>695.0</td>\n",
       "      <td>92.0</td>\n",
       "      <td>329.0</td>\n",
       "      <td>43.0</td>\n",
       "      <td>116.0</td>\n",
       "      <td>183.0</td>\n",
       "      <td>73.0</td>\n",
       "    </tr>\n",
       "    <tr>\n",
       "      <th>23</th>\n",
       "      <td>Medium salinity</td>\n",
       "      <td>3</td>\n",
       "      <td>11.0</td>\n",
       "      <td>47.0</td>\n",
       "      <td>7.0</td>\n",
       "      <td>0.0</td>\n",
       "      <td>0.313834</td>\n",
       "      <td>740.0</td>\n",
       "      <td>90.0</td>\n",
       "      <td>314.0</td>\n",
       "      <td>39.0</td>\n",
       "      <td>111.0</td>\n",
       "      <td>204.0</td>\n",
       "      <td>73.0</td>\n",
       "    </tr>\n",
       "    <tr>\n",
       "      <th>24</th>\n",
       "      <td>Medium salinity</td>\n",
       "      <td>4</td>\n",
       "      <td>20.0</td>\n",
       "      <td>50.0</td>\n",
       "      <td>2.0</td>\n",
       "      <td>0.0</td>\n",
       "      <td>0.411449</td>\n",
       "      <td>766.0</td>\n",
       "      <td>76.0</td>\n",
       "      <td>263.0</td>\n",
       "      <td>45.0</td>\n",
       "      <td>134.0</td>\n",
       "      <td>206.0</td>\n",
       "      <td>73.0</td>\n",
       "    </tr>\n",
       "    <tr>\n",
       "      <th>25</th>\n",
       "      <td>Medium salinity</td>\n",
       "      <td>5</td>\n",
       "      <td>16.0</td>\n",
       "      <td>60.0</td>\n",
       "      <td>2.0</td>\n",
       "      <td>0.0</td>\n",
       "      <td>0.377825</td>\n",
       "      <td>691.0</td>\n",
       "      <td>98.0</td>\n",
       "      <td>344.0</td>\n",
       "      <td>46.0</td>\n",
       "      <td>115.0</td>\n",
       "      <td>195.0</td>\n",
       "      <td>73.0</td>\n",
       "    </tr>\n",
       "    <tr>\n",
       "      <th>26</th>\n",
       "      <td>Medium salinity</td>\n",
       "      <td>6</td>\n",
       "      <td>15.0</td>\n",
       "      <td>54.0</td>\n",
       "      <td>5.0</td>\n",
       "      <td>0.0</td>\n",
       "      <td>0.443794</td>\n",
       "      <td>694.0</td>\n",
       "      <td>87.0</td>\n",
       "      <td>308.0</td>\n",
       "      <td>51.0</td>\n",
       "      <td>139.0</td>\n",
       "      <td>191.0</td>\n",
       "      <td>73.0</td>\n",
       "    </tr>\n",
       "    <tr>\n",
       "      <th>27</th>\n",
       "      <td>Medium salinity</td>\n",
       "      <td>7</td>\n",
       "      <td>17.0</td>\n",
       "      <td>44.0</td>\n",
       "      <td>2.0</td>\n",
       "      <td>0.0</td>\n",
       "      <td>0.360910</td>\n",
       "      <td>671.0</td>\n",
       "      <td>101.0</td>\n",
       "      <td>367.0</td>\n",
       "      <td>37.0</td>\n",
       "      <td>108.0</td>\n",
       "      <td>183.0</td>\n",
       "      <td>73.0</td>\n",
       "    </tr>\n",
       "    <tr>\n",
       "      <th>28</th>\n",
       "      <td>Medium salinity</td>\n",
       "      <td>8</td>\n",
       "      <td>11.0</td>\n",
       "      <td>45.0</td>\n",
       "      <td>7.0</td>\n",
       "      <td>0.0</td>\n",
       "      <td>0.324131</td>\n",
       "      <td>629.0</td>\n",
       "      <td>102.0</td>\n",
       "      <td>376.0</td>\n",
       "      <td>42.0</td>\n",
       "      <td>130.0</td>\n",
       "      <td>177.0</td>\n",
       "      <td>73.0</td>\n",
       "    </tr>\n",
       "    <tr>\n",
       "      <th>29</th>\n",
       "      <td>Medium salinity</td>\n",
       "      <td>9</td>\n",
       "      <td>11.0</td>\n",
       "      <td>51.0</td>\n",
       "      <td>4.0</td>\n",
       "      <td>0.0</td>\n",
       "      <td>0.351058</td>\n",
       "      <td>697.0</td>\n",
       "      <td>97.0</td>\n",
       "      <td>341.0</td>\n",
       "      <td>45.0</td>\n",
       "      <td>101.0</td>\n",
       "      <td>184.0</td>\n",
       "      <td>73.0</td>\n",
       "    </tr>\n",
       "  </tbody>\n",
       "</table>\n",
       "</div>"
      ],
      "text/plain": [
       "           Scenario  Seed  Rice  Annual crops  Perennial crops  Aquaculture  \\\n",
       "0     High salinity     0   4.0          35.0              2.0          0.0   \n",
       "1     High salinity     1   6.0          28.0              2.0          1.0   \n",
       "2     High salinity     2   7.0          36.0              2.0          0.0   \n",
       "3     High salinity     3   2.0          40.0              5.0          0.0   \n",
       "4     High salinity     4   6.0          36.0              3.0          1.0   \n",
       "5     High salinity     5   2.0          40.0              5.0          2.0   \n",
       "6     High salinity     6   2.0          34.0              3.0          0.0   \n",
       "7     High salinity     7   5.0          34.0              3.0          0.0   \n",
       "8     High salinity     8   2.0          39.0              1.0          0.0   \n",
       "9     High salinity     9   5.0          37.0              3.0          2.0   \n",
       "10     Low salinity     0  16.0          52.0              0.0          0.0   \n",
       "11     Low salinity     1  21.0          36.0              0.0          0.0   \n",
       "12     Low salinity     2  23.0          51.0              0.0          0.0   \n",
       "13     Low salinity     3  24.0          48.0              0.0          0.0   \n",
       "14     Low salinity     4  22.0          50.0              1.0          0.0   \n",
       "15     Low salinity     5  18.0          59.0              0.0          0.0   \n",
       "16     Low salinity     6  21.0          56.0              0.0          0.0   \n",
       "17     Low salinity     7  18.0          44.0              0.0          0.0   \n",
       "18     Low salinity     8  21.0          47.0              0.0          0.0   \n",
       "19     Low salinity     9  17.0          51.0              0.0          0.0   \n",
       "20  Medium salinity     0  12.0          51.0              3.0          0.0   \n",
       "21  Medium salinity     1  17.0          35.0              3.0          0.0   \n",
       "22  Medium salinity     2  14.0          49.0             10.0          0.0   \n",
       "23  Medium salinity     3  11.0          47.0              7.0          0.0   \n",
       "24  Medium salinity     4  20.0          50.0              2.0          0.0   \n",
       "25  Medium salinity     5  16.0          60.0              2.0          0.0   \n",
       "26  Medium salinity     6  15.0          54.0              5.0          0.0   \n",
       "27  Medium salinity     7  17.0          44.0              2.0          0.0   \n",
       "28  Medium salinity     8  11.0          45.0              7.0          0.0   \n",
       "29  Medium salinity     9  11.0          51.0              4.0          0.0   \n",
       "\n",
       "    Average_Livelihood  Num_household_members  Migrated_households  \\\n",
       "0             0.119382                  520.0                142.0   \n",
       "1             0.197209                  635.0                118.0   \n",
       "2             0.236911                  687.0                116.0   \n",
       "3             0.161066                  602.0                112.0   \n",
       "4             0.235941                  605.0                119.0   \n",
       "5             0.182034                  596.0                117.0   \n",
       "6             0.211632                  600.0                120.0   \n",
       "7             0.182872                  563.0                127.0   \n",
       "8             0.101446                  673.0                105.0   \n",
       "9             0.225887                  611.0                106.0   \n",
       "10            0.345670                  692.0                 96.0   \n",
       "11            0.391691                  676.0                 96.0   \n",
       "12            0.419879                  706.0                 92.0   \n",
       "13            0.359601                  742.0                 97.0   \n",
       "14            0.415832                  784.0                 85.0   \n",
       "15            0.375119                  729.0                 94.0   \n",
       "16            0.457451                  727.0                 87.0   \n",
       "17            0.353571                  647.0                108.0   \n",
       "18            0.333189                  722.0                 93.0   \n",
       "19            0.371893                  662.0                100.0   \n",
       "20            0.315127                  707.0                103.0   \n",
       "21            0.377336                  724.0                 91.0   \n",
       "22            0.418349                  695.0                 92.0   \n",
       "23            0.313834                  740.0                 90.0   \n",
       "24            0.411449                  766.0                 76.0   \n",
       "25            0.377825                  691.0                 98.0   \n",
       "26            0.443794                  694.0                 87.0   \n",
       "27            0.360910                  671.0                101.0   \n",
       "28            0.324131                  629.0                102.0   \n",
       "29            0.351058                  697.0                 97.0   \n",
       "\n",
       "    Migrated_members  Migrated_individuals  Died agents  Child births  Step  \n",
       "0              486.0                  31.0        106.0         143.0  73.0  \n",
       "1              408.0                  31.0        109.0         183.0  73.0  \n",
       "2              382.0                  32.0        110.0         210.0  73.0  \n",
       "3              400.0                  46.0         93.0         141.0  73.0  \n",
       "4              412.0                  30.0        118.0         164.0  73.0  \n",
       "5              413.0                  48.0        106.0         163.0  73.0  \n",
       "6              411.0                  22.0        127.0         159.0  73.0  \n",
       "7              470.0                  38.0         96.0         167.0  73.0  \n",
       "8              368.0                  34.0        116.0         190.0  73.0  \n",
       "9              396.0                  62.0        113.0         182.0  73.0  \n",
       "10             349.0                  50.0        134.0         225.0  73.0  \n",
       "11             343.0                  36.0        119.0         174.0  73.0  \n",
       "12             331.0                  36.0        113.0         186.0  73.0  \n",
       "13             325.0                  34.0        111.0         212.0  73.0  \n",
       "14             270.0                  45.0        135.0         232.0  73.0  \n",
       "15             335.0                  40.0        114.0         218.0  73.0  \n",
       "16             295.0                  43.0        146.0         210.0  73.0  \n",
       "17             395.0                  27.0        110.0         179.0  73.0  \n",
       "18             312.0                  44.0        125.0         203.0  73.0  \n",
       "19             366.0                  34.0        116.0         178.0  73.0  \n",
       "20             328.0                  31.0        130.0         196.0  73.0  \n",
       "21             331.0                  34.0        117.0         206.0  73.0  \n",
       "22             329.0                  43.0        116.0         183.0  73.0  \n",
       "23             314.0                  39.0        111.0         204.0  73.0  \n",
       "24             263.0                  45.0        134.0         206.0  73.0  \n",
       "25             344.0                  46.0        115.0         195.0  73.0  \n",
       "26             308.0                  51.0        139.0         191.0  73.0  \n",
       "27             367.0                  37.0        108.0         183.0  73.0  \n",
       "28             376.0                  42.0        130.0         177.0  73.0  \n",
       "29             341.0                  45.0        101.0         184.0  73.0  "
      ]
     },
     "execution_count": 57,
     "metadata": {},
     "output_type": "execute_result"
    }
   ],
   "source": [
    "all_full \n",
    "all_full_grouped = all_full\n",
    "all_full_grouped = all_full_grouped.fillna(0)\n",
    "all_full_grouped = all_full_grouped.groupby(['Scenario', \"Seed\"]).sum()\n",
    "all_full_grouped = all_full_grouped.reset_index()\n",
    "all_full_grouped"
   ]
  },
  {
   "cell_type": "code",
   "execution_count": null,
   "id": "259ebcc5",
   "metadata": {},
   "outputs": [
    {
     "data": {
      "image/png": "[encoded data removed]",
      "text/plain": [
       "<Figure size 1000x600 with 1 Axes>"
      ]
     },
     "metadata": {},
     "output_type": "display_data"
    }
   ],
   "source": [
    "import matplotlib.pyplot as plt\n",
    "import seaborn as sns\n",
    "\n",
    "# Zet crop counts in long format voor eenvoudige boxplots\n",
    "crop_long =all_full_grouped.melt(\n",
    "    id_vars=[\"Scenario\"],\n",
    "    value_vars=[\"Rice\", \"Annual crops\", \"Perennial crops\", \"Aquaculture\"],\n",
    "    var_name=\"Crop Type\",\n",
    "    value_name=\"Count\"\n",
    ")\n",
    "\n",
    "desired_order = [\"Low salinity\", \"Medium salinity\", \"High salinity\"]\n",
    "crop_long[\"Scenario\"] = pd.Categorical(crop_long[\"Scenario\"], categories=desired_order, ordered=True)\n",
    "\n",
    "plt.figure(figsize=(10, 6))\n",
    "sns.boxplot(data=crop_long, x=\"Crop Type\", y=\"Count\", hue=\"Scenario\", hue_order=desired_order)\n",
    "plt.title(\"Aantal Agents per Crop Type op Step 300\")\n",
    "plt.ylabel(\"Aantal Agents\")\n",
    "plt.xlabel(\"Crop Type\")\n",
    "plt.legend(title=\"Scenario\")\n",
    "plt.tight_layout()\n",
    "plt.show()\n",
    "\n"
   ]
  },
  {
   "cell_type": "code",
   "execution_count": 59,
   "id": "3f51e535",
   "metadata": {},
   "outputs": [
    {
     "data": {
      "image/png": "[encoded data removed]",
      "text/plain": [
       "<Figure size 800x600 with 1 Axes>"
      ]
     },
     "metadata": {},
     "output_type": "display_data"
    }
   ],
   "source": [
    "import matplotlib.pyplot as plt\n",
    "import seaborn as sns\n",
    "\n",
    "plt.figure(figsize=(8, 6))\n",
    "sns.boxplot(data=all_full_grouped, x=\"Scenario\", y=\"Migrated_households\",hue=\"Scenario\", palette=\"Set2\")\n",
    "plt.title(\"Verdeling van Migrated Households per Scenario\")\n",
    "plt.xlabel(\"Scenario\")\n",
    "plt.ylabel(\"Aantal Gemigreerde Huishoudens\")\n",
    "\n",
    "plt.tight_layout()\n",
    "plt.show()\n"
   ]
  },
  {
   "cell_type": "code",
   "execution_count": null,
   "id": "8062248a",
   "metadata": {},
   "outputs": [],
   "source": []
  }
 ],
 "metadata": {
  "kernelspec": {
   "display_name": "afstuderen2025",
   "language": "python",
   "name": "python3"
  },
  "language_info": {
   "codemirror_mode": {
    "name": "ipython",
    "version": 3
   },
   "file_extension": ".py",
   "mimetype": "text/x-python",
   "name": "python",
   "nbconvert_exporter": "python",
   "pygments_lexer": "ipython3",
   "version": "3.13.2"
  }
 },
 "nbformat": 4,
 "nbformat_minor": 5
}
