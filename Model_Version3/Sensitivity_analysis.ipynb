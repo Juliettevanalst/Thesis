{
 "cells": [
  {
   "cell_type": "code",
   "execution_count": 1,
   "id": "1cb20eca",
   "metadata": {},
   "outputs": [
    {
     "name": "stderr",
     "output_type": "stream",
     "text": [
      "c:\\Users\\sjuul\\anaconda3\\envs\\afstuderen2025\\Lib\\site-packages\\tqdm\\auto.py:21: TqdmWarning: IProgress not found. Please update jupyter and ipywidgets. See https://ipywidgets.readthedocs.io/en/stable/user_install.html\n",
      "  from .autonotebook import tqdm as notebook_tqdm\n"
     ]
    }
   ],
   "source": [
    "from Model3 import RiverDeltaModel\n",
    "import matplotlib.pyplot as plt\n",
    "import networkx as nx\n",
    "import warnings \n",
    "import copy\n",
    "import matplotlib.lines as mlines"
   ]
  },
  {
   "cell_type": "code",
   "execution_count": 3,
   "id": "5589c2a0",
   "metadata": {},
   "outputs": [
    {
     "data": {
      "text/html": [
       "<div>\n",
       "<style scoped>\n",
       "    .dataframe tbody tr th:only-of-type {\n",
       "        vertical-align: middle;\n",
       "    }\n",
       "\n",
       "    .dataframe tbody tr th {\n",
       "        vertical-align: top;\n",
       "    }\n",
       "\n",
       "    .dataframe thead th {\n",
       "        text-align: right;\n",
       "    }\n",
       "</style>\n",
       "<table border=\"1\" class=\"dataframe\">\n",
       "  <thead>\n",
       "    <tr style=\"text-align: right;\">\n",
       "      <th></th>\n",
       "      <th>Average_Livelihood</th>\n",
       "      <th>Num_household_members</th>\n",
       "      <th>Migrated_households</th>\n",
       "      <th>Migrated_members</th>\n",
       "      <th>Migrated_individuals</th>\n",
       "      <th>Died agents</th>\n",
       "      <th>Child births</th>\n",
       "    </tr>\n",
       "  </thead>\n",
       "  <tbody>\n",
       "    <tr>\n",
       "      <th>0</th>\n",
       "      <td>0.000000</td>\n",
       "      <td>1000</td>\n",
       "      <td>0</td>\n",
       "      <td>0</td>\n",
       "      <td>0</td>\n",
       "      <td>0</td>\n",
       "      <td>0</td>\n",
       "    </tr>\n",
       "    <tr>\n",
       "      <th>1</th>\n",
       "      <td>0.000000</td>\n",
       "      <td>1000</td>\n",
       "      <td>0</td>\n",
       "      <td>0</td>\n",
       "      <td>0</td>\n",
       "      <td>0</td>\n",
       "      <td>0</td>\n",
       "    </tr>\n",
       "    <tr>\n",
       "      <th>2</th>\n",
       "      <td>0.000000</td>\n",
       "      <td>986</td>\n",
       "      <td>3</td>\n",
       "      <td>14</td>\n",
       "      <td>0</td>\n",
       "      <td>0</td>\n",
       "      <td>0</td>\n",
       "    </tr>\n",
       "    <tr>\n",
       "      <th>3</th>\n",
       "      <td>0.000000</td>\n",
       "      <td>986</td>\n",
       "      <td>3</td>\n",
       "      <td>14</td>\n",
       "      <td>0</td>\n",
       "      <td>0</td>\n",
       "      <td>0</td>\n",
       "    </tr>\n",
       "    <tr>\n",
       "      <th>4</th>\n",
       "      <td>0.000000</td>\n",
       "      <td>964</td>\n",
       "      <td>11</td>\n",
       "      <td>35</td>\n",
       "      <td>1</td>\n",
       "      <td>0</td>\n",
       "      <td>0</td>\n",
       "    </tr>\n",
       "    <tr>\n",
       "      <th>...</th>\n",
       "      <td>...</td>\n",
       "      <td>...</td>\n",
       "      <td>...</td>\n",
       "      <td>...</td>\n",
       "      <td>...</td>\n",
       "      <td>...</td>\n",
       "      <td>...</td>\n",
       "    </tr>\n",
       "    <tr>\n",
       "      <th>69</th>\n",
       "      <td>0.124519</td>\n",
       "      <td>626</td>\n",
       "      <td>118</td>\n",
       "      <td>389</td>\n",
       "      <td>49</td>\n",
       "      <td>89</td>\n",
       "      <td>152</td>\n",
       "    </tr>\n",
       "    <tr>\n",
       "      <th>70</th>\n",
       "      <td>0.121472</td>\n",
       "      <td>610</td>\n",
       "      <td>121</td>\n",
       "      <td>402</td>\n",
       "      <td>51</td>\n",
       "      <td>95</td>\n",
       "      <td>157</td>\n",
       "    </tr>\n",
       "    <tr>\n",
       "      <th>71</th>\n",
       "      <td>0.127964</td>\n",
       "      <td>611</td>\n",
       "      <td>124</td>\n",
       "      <td>407</td>\n",
       "      <td>51</td>\n",
       "      <td>101</td>\n",
       "      <td>169</td>\n",
       "    </tr>\n",
       "    <tr>\n",
       "      <th>72</th>\n",
       "      <td>0.126285</td>\n",
       "      <td>604</td>\n",
       "      <td>124</td>\n",
       "      <td>407</td>\n",
       "      <td>53</td>\n",
       "      <td>110</td>\n",
       "      <td>173</td>\n",
       "    </tr>\n",
       "    <tr>\n",
       "      <th>73</th>\n",
       "      <td>0.126176</td>\n",
       "      <td>597</td>\n",
       "      <td>126</td>\n",
       "      <td>417</td>\n",
       "      <td>53</td>\n",
       "      <td>111</td>\n",
       "      <td>177</td>\n",
       "    </tr>\n",
       "  </tbody>\n",
       "</table>\n",
       "<p>74 rows × 7 columns</p>\n",
       "</div>"
      ],
      "text/plain": [
       "    Average_Livelihood  Num_household_members  Migrated_households  \\\n",
       "0             0.000000                   1000                    0   \n",
       "1             0.000000                   1000                    0   \n",
       "2             0.000000                    986                    3   \n",
       "3             0.000000                    986                    3   \n",
       "4             0.000000                    964                   11   \n",
       "..                 ...                    ...                  ...   \n",
       "69            0.124519                    626                  118   \n",
       "70            0.121472                    610                  121   \n",
       "71            0.127964                    611                  124   \n",
       "72            0.126285                    604                  124   \n",
       "73            0.126176                    597                  126   \n",
       "\n",
       "    Migrated_members  Migrated_individuals  Died agents  Child births  \n",
       "0                  0                     0            0             0  \n",
       "1                  0                     0            0             0  \n",
       "2                 14                     0            0             0  \n",
       "3                 14                     0            0             0  \n",
       "4                 35                     1            0             0  \n",
       "..               ...                   ...          ...           ...  \n",
       "69               389                    49           89           152  \n",
       "70               402                    51           95           157  \n",
       "71               407                    51          101           169  \n",
       "72               407                    53          110           173  \n",
       "73               417                    53          111           177  \n",
       "\n",
       "[74 rows x 7 columns]"
      ]
     },
     "execution_count": 3,
     "metadata": {},
     "output_type": "execute_result"
    }
   ],
   "source": [
    "model_data = model.datacollector.get_model_vars_dataframe()\n",
    "model_data"
   ]
  },
  {
   "cell_type": "code",
   "execution_count": 4,
   "id": "70374539",
   "metadata": {},
   "outputs": [
    {
     "data": {
      "text/html": [
       "<div>\n",
       "<style scoped>\n",
       "    .dataframe tbody tr th:only-of-type {\n",
       "        vertical-align: middle;\n",
       "    }\n",
       "\n",
       "    .dataframe tbody tr th {\n",
       "        vertical-align: top;\n",
       "    }\n",
       "\n",
       "    .dataframe thead th {\n",
       "        text-align: right;\n",
       "    }\n",
       "</style>\n",
       "<table border=\"1\" class=\"dataframe\">\n",
       "  <thead>\n",
       "    <tr style=\"text-align: right;\">\n",
       "      <th></th>\n",
       "      <th></th>\n",
       "      <th>Crop_type</th>\n",
       "      <th>Land_category</th>\n",
       "      <th>Savings</th>\n",
       "      <th>too low income</th>\n",
       "    </tr>\n",
       "    <tr>\n",
       "      <th>Step</th>\n",
       "      <th>AgentID</th>\n",
       "      <th></th>\n",
       "      <th></th>\n",
       "      <th></th>\n",
       "      <th></th>\n",
       "    </tr>\n",
       "  </thead>\n",
       "  <tbody>\n",
       "    <tr>\n",
       "      <th rowspan=\"5\" valign=\"top\">1</th>\n",
       "      <th>1</th>\n",
       "      <td>None</td>\n",
       "      <td>None</td>\n",
       "      <td>NaN</td>\n",
       "      <td>NaN</td>\n",
       "    </tr>\n",
       "    <tr>\n",
       "      <th>2</th>\n",
       "      <td>None</td>\n",
       "      <td>None</td>\n",
       "      <td>NaN</td>\n",
       "      <td>NaN</td>\n",
       "    </tr>\n",
       "    <tr>\n",
       "      <th>3</th>\n",
       "      <td>None</td>\n",
       "      <td>None</td>\n",
       "      <td>NaN</td>\n",
       "      <td>NaN</td>\n",
       "    </tr>\n",
       "    <tr>\n",
       "      <th>4</th>\n",
       "      <td>None</td>\n",
       "      <td>None</td>\n",
       "      <td>NaN</td>\n",
       "      <td>NaN</td>\n",
       "    </tr>\n",
       "    <tr>\n",
       "      <th>5</th>\n",
       "      <td>None</td>\n",
       "      <td>None</td>\n",
       "      <td>NaN</td>\n",
       "      <td>NaN</td>\n",
       "    </tr>\n",
       "    <tr>\n",
       "      <th>...</th>\n",
       "      <th>...</th>\n",
       "      <td>...</td>\n",
       "      <td>...</td>\n",
       "      <td>...</td>\n",
       "      <td>...</td>\n",
       "    </tr>\n",
       "    <tr>\n",
       "      <th rowspan=\"5\" valign=\"top\">300</th>\n",
       "      <th>3198</th>\n",
       "      <td>None</td>\n",
       "      <td>None</td>\n",
       "      <td>NaN</td>\n",
       "      <td>NaN</td>\n",
       "    </tr>\n",
       "    <tr>\n",
       "      <th>3199</th>\n",
       "      <td>None</td>\n",
       "      <td>None</td>\n",
       "      <td>NaN</td>\n",
       "      <td>NaN</td>\n",
       "    </tr>\n",
       "    <tr>\n",
       "      <th>3200</th>\n",
       "      <td>None</td>\n",
       "      <td>None</td>\n",
       "      <td>NaN</td>\n",
       "      <td>NaN</td>\n",
       "    </tr>\n",
       "    <tr>\n",
       "      <th>3201</th>\n",
       "      <td>None</td>\n",
       "      <td>None</td>\n",
       "      <td>NaN</td>\n",
       "      <td>NaN</td>\n",
       "    </tr>\n",
       "    <tr>\n",
       "      <th>3202</th>\n",
       "      <td>None</td>\n",
       "      <td>None</td>\n",
       "      <td>NaN</td>\n",
       "      <td>NaN</td>\n",
       "    </tr>\n",
       "  </tbody>\n",
       "</table>\n",
       "<p>90693 rows × 4 columns</p>\n",
       "</div>"
      ],
      "text/plain": [
       "             Crop_type Land_category  Savings  too low income\n",
       "Step AgentID                                                 \n",
       "1    1            None          None      NaN             NaN\n",
       "     2            None          None      NaN             NaN\n",
       "     3            None          None      NaN             NaN\n",
       "     4            None          None      NaN             NaN\n",
       "     5            None          None      NaN             NaN\n",
       "...                ...           ...      ...             ...\n",
       "300  3198         None          None      NaN             NaN\n",
       "     3199         None          None      NaN             NaN\n",
       "     3200         None          None      NaN             NaN\n",
       "     3201         None          None      NaN             NaN\n",
       "     3202         None          None      NaN             NaN\n",
       "\n",
       "[90693 rows x 4 columns]"
      ]
     },
     "execution_count": 4,
     "metadata": {},
     "output_type": "execute_result"
    }
   ],
   "source": [
    "agent_data = model.datacollector.get_agent_vars_dataframe()\n",
    "agent_data"
   ]
  },
  {
   "cell_type": "code",
   "execution_count": 5,
   "id": "b9d594f7",
   "metadata": {},
   "outputs": [],
   "source": [
    "# normal_salinity = agent_data"
   ]
  },
  {
   "cell_type": "code",
   "execution_count": 6,
   "id": "6e35de1a",
   "metadata": {},
   "outputs": [],
   "source": [
    "# salinity_low = agent_data"
   ]
  },
  {
   "cell_type": "code",
   "execution_count": 8,
   "id": "f22bacd5",
   "metadata": {},
   "outputs": [],
   "source": [
    "salinity_high = agent_data"
   ]
  },
  {
   "cell_type": "code",
   "execution_count": 6,
   "id": "f0941ebb",
   "metadata": {},
   "outputs": [
    {
     "name": "stdout",
     "output_type": "stream",
     "text": [
      "There are 0 agents unassigned!!\n"
     ]
    },
    {
     "name": "stderr",
     "output_type": "stream",
     "text": [
      "c:\\Users\\sjuul\\OneDrive\\Documenten\\EPA\\THESIS\\Thesis\\Model_Version3\\Model3.py:1126: FutureWarning: The 'seed' keyword is deprecated. Use 'rng' instead.\n",
      "  candidate_points = districts_polygon.sample_points(size=len(land_agents)*50, seed=seed)\n"
     ]
    },
    {
     "name": "stdout",
     "output_type": "stream",
     "text": [
      "neighbor is rijk en neemt land over\n",
      "shock is happening!!\n",
      "shock is happening!!\n",
      "There are 0 agents unassigned!!\n"
     ]
    },
    {
     "name": "stderr",
     "output_type": "stream",
     "text": [
      "c:\\Users\\sjuul\\OneDrive\\Documenten\\EPA\\THESIS\\Thesis\\Model_Version3\\Model3.py:1126: FutureWarning: The 'seed' keyword is deprecated. Use 'rng' instead.\n",
      "  candidate_points = districts_polygon.sample_points(size=len(land_agents)*50, seed=seed)\n"
     ]
    },
    {
     "name": "stdout",
     "output_type": "stream",
     "text": [
      "neighbor is rijk en neemt land over\n",
      "neighbor is rijk en neemt land over\n",
      "neighbor is rijk en neemt land over\n",
      "neighbor is rijk en neemt land over\n",
      "neighbor is rijk en neemt land over\n",
      "shock is happening!!\n",
      "shock is happening!!\n",
      "There are 0 agents unassigned!!\n"
     ]
    },
    {
     "name": "stderr",
     "output_type": "stream",
     "text": [
      "c:\\Users\\sjuul\\OneDrive\\Documenten\\EPA\\THESIS\\Thesis\\Model_Version3\\Model3.py:1126: FutureWarning: The 'seed' keyword is deprecated. Use 'rng' instead.\n",
      "  candidate_points = districts_polygon.sample_points(size=len(land_agents)*50, seed=seed)\n"
     ]
    },
    {
     "name": "stdout",
     "output_type": "stream",
     "text": [
      "neighbor is rijk en neemt land over\n",
      "shock is happening!!\n",
      "shock is happening!!\n",
      "There are 0 agents unassigned!!\n"
     ]
    },
    {
     "name": "stderr",
     "output_type": "stream",
     "text": [
      "c:\\Users\\sjuul\\OneDrive\\Documenten\\EPA\\THESIS\\Thesis\\Model_Version3\\Model3.py:1126: FutureWarning: The 'seed' keyword is deprecated. Use 'rng' instead.\n",
      "  candidate_points = districts_polygon.sample_points(size=len(land_agents)*50, seed=seed)\n"
     ]
    },
    {
     "name": "stdout",
     "output_type": "stream",
     "text": [
      "neighbor is rijk en neemt land over\n",
      "neighbor is rijk en neemt land over\n",
      "neighbor is rijk en neemt land over\n",
      "shock is happening!!\n",
      "shock is happening!!\n",
      "There are 0 agents unassigned!!\n"
     ]
    },
    {
     "name": "stderr",
     "output_type": "stream",
     "text": [
      "c:\\Users\\sjuul\\OneDrive\\Documenten\\EPA\\THESIS\\Thesis\\Model_Version3\\Model3.py:1126: FutureWarning: The 'seed' keyword is deprecated. Use 'rng' instead.\n",
      "  candidate_points = districts_polygon.sample_points(size=len(land_agents)*50, seed=seed)\n"
     ]
    },
    {
     "name": "stdout",
     "output_type": "stream",
     "text": [
      "neighbor is rijk en neemt land over\n",
      "neighbor is rijk en neemt land over\n",
      "neighbor is rijk en neemt land over\n",
      "neighbor is rijk en neemt land over\n",
      "shock is happening!!\n",
      "shock is happening!!\n",
      "There are 0 agents unassigned!!\n"
     ]
    },
    {
     "name": "stderr",
     "output_type": "stream",
     "text": [
      "c:\\Users\\sjuul\\OneDrive\\Documenten\\EPA\\THESIS\\Thesis\\Model_Version3\\Model3.py:1126: FutureWarning: The 'seed' keyword is deprecated. Use 'rng' instead.\n",
      "  candidate_points = districts_polygon.sample_points(size=len(land_agents)*50, seed=seed)\n"
     ]
    },
    {
     "name": "stdout",
     "output_type": "stream",
     "text": [
      "neighbor is rijk en neemt land over\n",
      "neighbor is rijk en neemt land over\n",
      "neighbor is rijk en neemt land over\n",
      "neighbor is rijk en neemt land over\n",
      "shock is happening!!\n",
      "shock is happening!!\n",
      "There are 0 agents unassigned!!\n"
     ]
    },
    {
     "name": "stderr",
     "output_type": "stream",
     "text": [
      "c:\\Users\\sjuul\\OneDrive\\Documenten\\EPA\\THESIS\\Thesis\\Model_Version3\\Model3.py:1126: FutureWarning: The 'seed' keyword is deprecated. Use 'rng' instead.\n",
      "  candidate_points = districts_polygon.sample_points(size=len(land_agents)*50, seed=seed)\n"
     ]
    },
    {
     "name": "stdout",
     "output_type": "stream",
     "text": [
      "shock is happening!!\n",
      "shock is happening!!\n",
      "There are 0 agents unassigned!!\n"
     ]
    },
    {
     "name": "stderr",
     "output_type": "stream",
     "text": [
      "c:\\Users\\sjuul\\OneDrive\\Documenten\\EPA\\THESIS\\Thesis\\Model_Version3\\Model3.py:1126: FutureWarning: The 'seed' keyword is deprecated. Use 'rng' instead.\n",
      "  candidate_points = districts_polygon.sample_points(size=len(land_agents)*50, seed=seed)\n"
     ]
    },
    {
     "name": "stdout",
     "output_type": "stream",
     "text": [
      "neighbor is rijk en neemt land over\n",
      "neighbor is rijk en neemt land over\n",
      "neighbor is rijk en neemt land over\n",
      "neighbor is rijk en neemt land over\n",
      "neighbor is rijk en neemt land over\n",
      "neighbor is rijk en neemt land over\n",
      "shock is happening!!\n",
      "neighbor is rijk en neemt land over\n",
      "shock is happening!!\n",
      "There are 0 agents unassigned!!\n"
     ]
    },
    {
     "name": "stderr",
     "output_type": "stream",
     "text": [
      "c:\\Users\\sjuul\\OneDrive\\Documenten\\EPA\\THESIS\\Thesis\\Model_Version3\\Model3.py:1126: FutureWarning: The 'seed' keyword is deprecated. Use 'rng' instead.\n",
      "  candidate_points = districts_polygon.sample_points(size=len(land_agents)*50, seed=seed)\n"
     ]
    },
    {
     "name": "stdout",
     "output_type": "stream",
     "text": [
      "shock is happening!!\n",
      "shock is happening!!\n",
      "There are 0 agents unassigned!!\n"
     ]
    },
    {
     "name": "stderr",
     "output_type": "stream",
     "text": [
      "c:\\Users\\sjuul\\OneDrive\\Documenten\\EPA\\THESIS\\Thesis\\Model_Version3\\Model3.py:1126: FutureWarning: The 'seed' keyword is deprecated. Use 'rng' instead.\n",
      "  candidate_points = districts_polygon.sample_points(size=len(land_agents)*50, seed=seed)\n"
     ]
    },
    {
     "name": "stdout",
     "output_type": "stream",
     "text": [
      "shock is happening!!\n",
      "shock is happening!!\n",
      "There are 0 agents unassigned!!\n"
     ]
    },
    {
     "name": "stderr",
     "output_type": "stream",
     "text": [
      "c:\\Users\\sjuul\\OneDrive\\Documenten\\EPA\\THESIS\\Thesis\\Model_Version3\\Model3.py:1126: FutureWarning: The 'seed' keyword is deprecated. Use 'rng' instead.\n",
      "  candidate_points = districts_polygon.sample_points(size=len(land_agents)*50, seed=seed)\n"
     ]
    },
    {
     "name": "stdout",
     "output_type": "stream",
     "text": [
      "neighbor is rijk en neemt land over\n",
      "shock is happening!!\n",
      "shock is happening!!\n",
      "There are 0 agents unassigned!!\n"
     ]
    },
    {
     "name": "stderr",
     "output_type": "stream",
     "text": [
      "c:\\Users\\sjuul\\OneDrive\\Documenten\\EPA\\THESIS\\Thesis\\Model_Version3\\Model3.py:1126: FutureWarning: The 'seed' keyword is deprecated. Use 'rng' instead.\n",
      "  candidate_points = districts_polygon.sample_points(size=len(land_agents)*50, seed=seed)\n"
     ]
    },
    {
     "name": "stdout",
     "output_type": "stream",
     "text": [
      "neighbor is rijk en neemt land over\n",
      "neighbor is rijk en neemt land over\n",
      "neighbor is rijk en neemt land over\n",
      "neighbor is rijk en neemt land over\n",
      "shock is happening!!\n",
      "shock is happening!!\n",
      "There are 0 agents unassigned!!\n"
     ]
    },
    {
     "name": "stderr",
     "output_type": "stream",
     "text": [
      "c:\\Users\\sjuul\\OneDrive\\Documenten\\EPA\\THESIS\\Thesis\\Model_Version3\\Model3.py:1126: FutureWarning: The 'seed' keyword is deprecated. Use 'rng' instead.\n",
      "  candidate_points = districts_polygon.sample_points(size=len(land_agents)*50, seed=seed)\n"
     ]
    },
    {
     "name": "stdout",
     "output_type": "stream",
     "text": [
      "neighbor is rijk en neemt land over\n",
      "shock is happening!!\n",
      "shock is happening!!\n",
      "There are 0 agents unassigned!!\n"
     ]
    },
    {
     "name": "stderr",
     "output_type": "stream",
     "text": [
      "c:\\Users\\sjuul\\OneDrive\\Documenten\\EPA\\THESIS\\Thesis\\Model_Version3\\Model3.py:1126: FutureWarning: The 'seed' keyword is deprecated. Use 'rng' instead.\n",
      "  candidate_points = districts_polygon.sample_points(size=len(land_agents)*50, seed=seed)\n"
     ]
    },
    {
     "name": "stdout",
     "output_type": "stream",
     "text": [
      "neighbor is rijk en neemt land over\n",
      "neighbor is rijk en neemt land over\n",
      "shock is happening!!\n",
      "shock is happening!!\n",
      "There are 0 agents unassigned!!\n"
     ]
    },
    {
     "name": "stderr",
     "output_type": "stream",
     "text": [
      "c:\\Users\\sjuul\\OneDrive\\Documenten\\EPA\\THESIS\\Thesis\\Model_Version3\\Model3.py:1126: FutureWarning: The 'seed' keyword is deprecated. Use 'rng' instead.\n",
      "  candidate_points = districts_polygon.sample_points(size=len(land_agents)*50, seed=seed)\n"
     ]
    },
    {
     "name": "stdout",
     "output_type": "stream",
     "text": [
      "neighbor is rijk en neemt land over\n",
      "neighbor is rijk en neemt land over\n",
      "neighbor is rijk en neemt land over\n",
      "neighbor is rijk en neemt land over\n",
      "shock is happening!!\n",
      "shock is happening!!\n",
      "There are 0 agents unassigned!!\n"
     ]
    },
    {
     "name": "stderr",
     "output_type": "stream",
     "text": [
      "c:\\Users\\sjuul\\OneDrive\\Documenten\\EPA\\THESIS\\Thesis\\Model_Version3\\Model3.py:1126: FutureWarning: The 'seed' keyword is deprecated. Use 'rng' instead.\n",
      "  candidate_points = districts_polygon.sample_points(size=len(land_agents)*50, seed=seed)\n"
     ]
    },
    {
     "name": "stdout",
     "output_type": "stream",
     "text": [
      "neighbor is rijk en neemt land over\n",
      "neighbor is rijk en neemt land over\n",
      "neighbor is rijk en neemt land over\n",
      "neighbor is rijk en neemt land over\n",
      "shock is happening!!\n",
      "shock is happening!!\n",
      "There are 0 agents unassigned!!\n"
     ]
    },
    {
     "name": "stderr",
     "output_type": "stream",
     "text": [
      "c:\\Users\\sjuul\\OneDrive\\Documenten\\EPA\\THESIS\\Thesis\\Model_Version3\\Model3.py:1126: FutureWarning: The 'seed' keyword is deprecated. Use 'rng' instead.\n",
      "  candidate_points = districts_polygon.sample_points(size=len(land_agents)*50, seed=seed)\n"
     ]
    },
    {
     "name": "stdout",
     "output_type": "stream",
     "text": [
      "shock is happening!!\n",
      "shock is happening!!\n",
      "There are 0 agents unassigned!!\n"
     ]
    },
    {
     "name": "stderr",
     "output_type": "stream",
     "text": [
      "c:\\Users\\sjuul\\OneDrive\\Documenten\\EPA\\THESIS\\Thesis\\Model_Version3\\Model3.py:1126: FutureWarning: The 'seed' keyword is deprecated. Use 'rng' instead.\n",
      "  candidate_points = districts_polygon.sample_points(size=len(land_agents)*50, seed=seed)\n"
     ]
    },
    {
     "name": "stdout",
     "output_type": "stream",
     "text": [
      "neighbor is rijk en neemt land over\n",
      "neighbor is rijk en neemt land over\n",
      "neighbor is rijk en neemt land over\n",
      "neighbor is rijk en neemt land over\n",
      "neighbor is rijk en neemt land over\n",
      "neighbor is rijk en neemt land over\n",
      "shock is happening!!\n",
      "neighbor is rijk en neemt land over\n",
      "shock is happening!!\n",
      "There are 0 agents unassigned!!\n"
     ]
    },
    {
     "name": "stderr",
     "output_type": "stream",
     "text": [
      "c:\\Users\\sjuul\\OneDrive\\Documenten\\EPA\\THESIS\\Thesis\\Model_Version3\\Model3.py:1126: FutureWarning: The 'seed' keyword is deprecated. Use 'rng' instead.\n",
      "  candidate_points = districts_polygon.sample_points(size=len(land_agents)*50, seed=seed)\n"
     ]
    },
    {
     "name": "stdout",
     "output_type": "stream",
     "text": [
      "shock is happening!!\n",
      "shock is happening!!\n",
      "There are 0 agents unassigned!!\n"
     ]
    },
    {
     "name": "stderr",
     "output_type": "stream",
     "text": [
      "c:\\Users\\sjuul\\OneDrive\\Documenten\\EPA\\THESIS\\Thesis\\Model_Version3\\Model3.py:1126: FutureWarning: The 'seed' keyword is deprecated. Use 'rng' instead.\n",
      "  candidate_points = districts_polygon.sample_points(size=len(land_agents)*50, seed=seed)\n"
     ]
    },
    {
     "name": "stdout",
     "output_type": "stream",
     "text": [
      "shock is happening!!\n",
      "shock is happening!!\n",
      "There are 0 agents unassigned!!\n"
     ]
    },
    {
     "name": "stderr",
     "output_type": "stream",
     "text": [
      "c:\\Users\\sjuul\\OneDrive\\Documenten\\EPA\\THESIS\\Thesis\\Model_Version3\\Model3.py:1126: FutureWarning: The 'seed' keyword is deprecated. Use 'rng' instead.\n",
      "  candidate_points = districts_polygon.sample_points(size=len(land_agents)*50, seed=seed)\n"
     ]
    },
    {
     "name": "stdout",
     "output_type": "stream",
     "text": [
      "shock is happening!!\n",
      "shock is happening!!\n",
      "There are 0 agents unassigned!!\n"
     ]
    },
    {
     "name": "stderr",
     "output_type": "stream",
     "text": [
      "c:\\Users\\sjuul\\OneDrive\\Documenten\\EPA\\THESIS\\Thesis\\Model_Version3\\Model3.py:1126: FutureWarning: The 'seed' keyword is deprecated. Use 'rng' instead.\n",
      "  candidate_points = districts_polygon.sample_points(size=len(land_agents)*50, seed=seed)\n"
     ]
    },
    {
     "name": "stdout",
     "output_type": "stream",
     "text": [
      "neighbor is rijk en neemt land over\n",
      "shock is happening!!\n",
      "shock is happening!!\n",
      "There are 0 agents unassigned!!\n"
     ]
    },
    {
     "name": "stderr",
     "output_type": "stream",
     "text": [
      "c:\\Users\\sjuul\\OneDrive\\Documenten\\EPA\\THESIS\\Thesis\\Model_Version3\\Model3.py:1126: FutureWarning: The 'seed' keyword is deprecated. Use 'rng' instead.\n",
      "  candidate_points = districts_polygon.sample_points(size=len(land_agents)*50, seed=seed)\n"
     ]
    },
    {
     "name": "stdout",
     "output_type": "stream",
     "text": [
      "neighbor is rijk en neemt land over\n",
      "shock is happening!!\n",
      "shock is happening!!\n",
      "There are 0 agents unassigned!!\n"
     ]
    },
    {
     "name": "stderr",
     "output_type": "stream",
     "text": [
      "c:\\Users\\sjuul\\OneDrive\\Documenten\\EPA\\THESIS\\Thesis\\Model_Version3\\Model3.py:1126: FutureWarning: The 'seed' keyword is deprecated. Use 'rng' instead.\n",
      "  candidate_points = districts_polygon.sample_points(size=len(land_agents)*50, seed=seed)\n"
     ]
    },
    {
     "name": "stdout",
     "output_type": "stream",
     "text": [
      "shock is happening!!\n",
      "shock is happening!!\n",
      "There are 0 agents unassigned!!\n"
     ]
    },
    {
     "name": "stderr",
     "output_type": "stream",
     "text": [
      "c:\\Users\\sjuul\\OneDrive\\Documenten\\EPA\\THESIS\\Thesis\\Model_Version3\\Model3.py:1126: FutureWarning: The 'seed' keyword is deprecated. Use 'rng' instead.\n",
      "  candidate_points = districts_polygon.sample_points(size=len(land_agents)*50, seed=seed)\n"
     ]
    },
    {
     "name": "stdout",
     "output_type": "stream",
     "text": [
      "neighbor is rijk en neemt land over\n",
      "neighbor is rijk en neemt land over\n",
      "neighbor is rijk en neemt land over\n",
      "neighbor is rijk en neemt land over\n",
      "shock is happening!!\n",
      "shock is happening!!\n",
      "There are 0 agents unassigned!!\n"
     ]
    },
    {
     "name": "stderr",
     "output_type": "stream",
     "text": [
      "c:\\Users\\sjuul\\OneDrive\\Documenten\\EPA\\THESIS\\Thesis\\Model_Version3\\Model3.py:1126: FutureWarning: The 'seed' keyword is deprecated. Use 'rng' instead.\n",
      "  candidate_points = districts_polygon.sample_points(size=len(land_agents)*50, seed=seed)\n"
     ]
    },
    {
     "name": "stdout",
     "output_type": "stream",
     "text": [
      "neighbor is rijk en neemt land over\n",
      "neighbor is rijk en neemt land over\n",
      "shock is happening!!\n",
      "shock is happening!!\n",
      "There are 0 agents unassigned!!\n"
     ]
    },
    {
     "name": "stderr",
     "output_type": "stream",
     "text": [
      "c:\\Users\\sjuul\\OneDrive\\Documenten\\EPA\\THESIS\\Thesis\\Model_Version3\\Model3.py:1126: FutureWarning: The 'seed' keyword is deprecated. Use 'rng' instead.\n",
      "  candidate_points = districts_polygon.sample_points(size=len(land_agents)*50, seed=seed)\n"
     ]
    },
    {
     "name": "stdout",
     "output_type": "stream",
     "text": [
      "shock is happening!!\n",
      "shock is happening!!\n",
      "There are 0 agents unassigned!!\n"
     ]
    },
    {
     "name": "stderr",
     "output_type": "stream",
     "text": [
      "c:\\Users\\sjuul\\OneDrive\\Documenten\\EPA\\THESIS\\Thesis\\Model_Version3\\Model3.py:1126: FutureWarning: The 'seed' keyword is deprecated. Use 'rng' instead.\n",
      "  candidate_points = districts_polygon.sample_points(size=len(land_agents)*50, seed=seed)\n"
     ]
    },
    {
     "name": "stdout",
     "output_type": "stream",
     "text": [
      "neighbor is rijk en neemt land over\n",
      "neighbor is rijk en neemt land over\n",
      "neighbor is rijk en neemt land over\n",
      "shock is happening!!\n",
      "shock is happening!!\n",
      "There are 0 agents unassigned!!\n"
     ]
    },
    {
     "name": "stderr",
     "output_type": "stream",
     "text": [
      "c:\\Users\\sjuul\\OneDrive\\Documenten\\EPA\\THESIS\\Thesis\\Model_Version3\\Model3.py:1126: FutureWarning: The 'seed' keyword is deprecated. Use 'rng' instead.\n",
      "  candidate_points = districts_polygon.sample_points(size=len(land_agents)*50, seed=seed)\n"
     ]
    },
    {
     "name": "stdout",
     "output_type": "stream",
     "text": [
      "shock is happening!!\n",
      "shock is happening!!\n",
      "There are 0 agents unassigned!!\n"
     ]
    },
    {
     "name": "stderr",
     "output_type": "stream",
     "text": [
      "c:\\Users\\sjuul\\OneDrive\\Documenten\\EPA\\THESIS\\Thesis\\Model_Version3\\Model3.py:1126: FutureWarning: The 'seed' keyword is deprecated. Use 'rng' instead.\n",
      "  candidate_points = districts_polygon.sample_points(size=len(land_agents)*50, seed=seed)\n"
     ]
    },
    {
     "name": "stdout",
     "output_type": "stream",
     "text": [
      "neighbor is rijk en neemt land over\n",
      "neighbor is rijk en neemt land over\n",
      "neighbor is rijk en neemt land over\n",
      "shock is happening!!\n",
      "shock is happening!!\n"
     ]
    }
   ],
   "source": [
    "import pandas as pd\n",
    "\n",
    "def run_scenario(scenario_name, salinity_low, salinity_high, n_runs=10):\n",
    "    results = []\n",
    "\n",
    "    for seed in range(n_runs):\n",
    "        model = RiverDeltaModel(seed=seed, salinity_low=salinity_low,salinity_high = salinity_high )  # ← pas dit aan voor jouw modelinit\n",
    "        for _ in range(300):\n",
    "            model.step()\n",
    "        \n",
    "        agent_data = model.datacollector.get_agent_vars_dataframe().reset_index()\n",
    "        step300 = agent_data[agent_data[\"Step\"] == 300]\n",
    "        crop_counts = step300[\"Crop_type\"].value_counts()\n",
    "\n",
    "        results.append({\n",
    "            \"Scenario\": scenario_name,\n",
    "            \"Seed\": seed,\n",
    "            \"Rice\": crop_counts.get(\"Rice\", 0),\n",
    "            \"Annual crops\": crop_counts.get(\"Annual crops\", 0),\n",
    "            \"Perennial crops\": crop_counts.get(\"Perennial crops\", 0),\n",
    "            \"Aquaculture\": crop_counts.get(\"Aquaculture\", 0),\n",
    "        })\n",
    "\n",
    "    return pd.DataFrame(results)\n",
    "\n",
    "df_a = run_scenario(\"Low salinity\", salinity_low=True, salinity_high = False)\n",
    "df_b = run_scenario(\"Medium salinity\", salinity_low = False,  salinity_high = False)\n",
    "df_c = run_scenario(\"High salinity\", salinity_low=False, salinity_high = True)\n",
    "\n",
    "# Combineer alle data\n",
    "all_results = pd.concat([df_a, df_b, df_c], ignore_index=True)"
   ]
  },
  {
   "cell_type": "code",
   "execution_count": 7,
   "id": "17aa0e03",
   "metadata": {},
   "outputs": [
    {
     "data": {
      "image/png": "[encoded data removed]",
      "text/plain": [
       "<Figure size 1200x600 with 1 Axes>"
      ]
     },
     "metadata": {},
     "output_type": "display_data"
    }
   ],
   "source": [
    "import seaborn as sns\n",
    "import matplotlib.pyplot as plt\n",
    "\n",
    "# Zet data in long format voor seaborn\n",
    "df_long = all_results.melt(id_vars=[\"Scenario\", \"Seed\"], \n",
    "                           value_vars=[\"Rice\", \"Annual crops\", \"Perennial crops\", \"Aquaculture\"],\n",
    "                           var_name=\"Crop_type\", value_name=\"Count\")\n",
    "\n",
    "# Plot\n",
    "plt.figure(figsize=(12, 6))\n",
    "sns.boxplot(data=df_long, x=\"Crop_type\", y=\"Count\", hue=\"Scenario\")\n",
    "plt.title(\"Aantal agents per Crop_type op Step 300 onder verschillende salinity scenario's\")\n",
    "plt.ylabel(\"Aantal agents\")\n",
    "plt.xlabel(\"Crop type\")\n",
    "plt.legend(title=\"Scenario\")\n",
    "plt.tight_layout()\n",
    "plt.show()\n"
   ]
  },
  {
   "cell_type": "code",
   "execution_count": 12,
   "id": "d9265e1e",
   "metadata": {},
   "outputs": [],
   "source": [
    "def run_scenario_full(scenario_name, salinity_low, salinity_high, n_runs=10):\n",
    "    results = []\n",
    "\n",
    "    for seed in range(n_runs):\n",
    "        model = RiverDeltaModel(seed=seed, salinity_low=salinity_low, salinity_high=salinity_high)\n",
    "\n",
    "        for _ in range(300):\n",
    "            model.step()\n",
    "\n",
    "        # Agent data\n",
    "        agent_data = model.datacollector.get_agent_vars_dataframe().reset_index()\n",
    "        step300_agents = agent_data[agent_data[\"Step\"] == 300]\n",
    "        crop_counts = step300_agents[\"Crop_type\"].value_counts()\n",
    "\n",
    "        # Model data\n",
    "        model_data = model.datacollector.get_model_vars_dataframe()\n",
    "        model_data[\"Step\"] = model_data.index  # ← FIX HIER\n",
    "        step300_model = model_data[model_data[\"Step\"] == 300]\n",
    "\n",
    "        if not step300_model.empty:\n",
    "            model_row = step300_model.iloc[0]\n",
    "        else:\n",
    "            model_row = {}\n",
    "\n",
    "        results.append({\n",
    "            \"Scenario\": scenario_name,\n",
    "            \"Seed\": seed,\n",
    "            # Agent-level info\n",
    "            \"Rice\": crop_counts.get(\"Rice\", 0),\n",
    "            \"Annual crops\": crop_counts.get(\"Annual crops\", 0),\n",
    "            \"Perennial crops\": crop_counts.get(\"Perennial crops\", 0),\n",
    "            \"Aquaculture\": crop_counts.get(\"Aquaculture\", 0),\n",
    "            # Model-level info\n",
    "            \"Migrated_households\": model_row.get(\"Migrated_households\", None),\n",
    "            \"Died agents\": model_row.get(\"Died agents\", None),\n",
    "            \"Child births\": model_row.get(\"Child births\", None),\n",
    "            \"Average_Livelihood\": model_row.get(\"Average_Livelihood\", None),\n",
    "        })\n",
    "\n",
    "    return pd.DataFrame(results)\n"
   ]
  },
  {
   "cell_type": "code",
   "execution_count": 13,
   "id": "194a1bdb",
   "metadata": {},
   "outputs": [
    {
     "name": "stdout",
     "output_type": "stream",
     "text": [
      "There are 0 agents unassigned!!\n"
     ]
    },
    {
     "name": "stderr",
     "output_type": "stream",
     "text": [
      "c:\\Users\\sjuul\\OneDrive\\Documenten\\EPA\\THESIS\\Thesis\\Model_Version3\\Model3.py:1126: FutureWarning: The 'seed' keyword is deprecated. Use 'rng' instead.\n",
      "  candidate_points = districts_polygon.sample_points(size=len(land_agents)*50, seed=seed)\n"
     ]
    },
    {
     "name": "stdout",
     "output_type": "stream",
     "text": [
      "neighbor is rijk en neemt land over\n",
      "shock is happening!!\n",
      "shock is happening!!\n",
      "There are 0 agents unassigned!!\n"
     ]
    },
    {
     "name": "stderr",
     "output_type": "stream",
     "text": [
      "c:\\Users\\sjuul\\OneDrive\\Documenten\\EPA\\THESIS\\Thesis\\Model_Version3\\Model3.py:1126: FutureWarning: The 'seed' keyword is deprecated. Use 'rng' instead.\n",
      "  candidate_points = districts_polygon.sample_points(size=len(land_agents)*50, seed=seed)\n"
     ]
    },
    {
     "name": "stdout",
     "output_type": "stream",
     "text": [
      "neighbor is rijk en neemt land over\n",
      "neighbor is rijk en neemt land over\n",
      "neighbor is rijk en neemt land over\n",
      "neighbor is rijk en neemt land over\n",
      "neighbor is rijk en neemt land over\n",
      "shock is happening!!\n",
      "shock is happening!!\n",
      "There are 0 agents unassigned!!\n"
     ]
    },
    {
     "name": "stderr",
     "output_type": "stream",
     "text": [
      "c:\\Users\\sjuul\\OneDrive\\Documenten\\EPA\\THESIS\\Thesis\\Model_Version3\\Model3.py:1126: FutureWarning: The 'seed' keyword is deprecated. Use 'rng' instead.\n",
      "  candidate_points = districts_polygon.sample_points(size=len(land_agents)*50, seed=seed)\n"
     ]
    },
    {
     "name": "stdout",
     "output_type": "stream",
     "text": [
      "neighbor is rijk en neemt land over\n",
      "shock is happening!!\n",
      "shock is happening!!\n",
      "There are 0 agents unassigned!!\n"
     ]
    },
    {
     "name": "stderr",
     "output_type": "stream",
     "text": [
      "c:\\Users\\sjuul\\OneDrive\\Documenten\\EPA\\THESIS\\Thesis\\Model_Version3\\Model3.py:1126: FutureWarning: The 'seed' keyword is deprecated. Use 'rng' instead.\n",
      "  candidate_points = districts_polygon.sample_points(size=len(land_agents)*50, seed=seed)\n"
     ]
    },
    {
     "name": "stdout",
     "output_type": "stream",
     "text": [
      "neighbor is rijk en neemt land over\n",
      "neighbor is rijk en neemt land over\n",
      "neighbor is rijk en neemt land over\n",
      "shock is happening!!\n",
      "shock is happening!!\n",
      "There are 0 agents unassigned!!\n"
     ]
    },
    {
     "name": "stderr",
     "output_type": "stream",
     "text": [
      "c:\\Users\\sjuul\\OneDrive\\Documenten\\EPA\\THESIS\\Thesis\\Model_Version3\\Model3.py:1126: FutureWarning: The 'seed' keyword is deprecated. Use 'rng' instead.\n",
      "  candidate_points = districts_polygon.sample_points(size=len(land_agents)*50, seed=seed)\n"
     ]
    },
    {
     "name": "stdout",
     "output_type": "stream",
     "text": [
      "neighbor is rijk en neemt land over\n",
      "neighbor is rijk en neemt land over\n",
      "neighbor is rijk en neemt land over\n",
      "neighbor is rijk en neemt land over\n",
      "shock is happening!!\n",
      "shock is happening!!\n",
      "There are 0 agents unassigned!!\n"
     ]
    },
    {
     "name": "stderr",
     "output_type": "stream",
     "text": [
      "c:\\Users\\sjuul\\OneDrive\\Documenten\\EPA\\THESIS\\Thesis\\Model_Version3\\Model3.py:1126: FutureWarning: The 'seed' keyword is deprecated. Use 'rng' instead.\n",
      "  candidate_points = districts_polygon.sample_points(size=len(land_agents)*50, seed=seed)\n"
     ]
    },
    {
     "name": "stdout",
     "output_type": "stream",
     "text": [
      "neighbor is rijk en neemt land over\n",
      "neighbor is rijk en neemt land over\n",
      "neighbor is rijk en neemt land over\n",
      "neighbor is rijk en neemt land over\n",
      "shock is happening!!\n",
      "shock is happening!!\n",
      "There are 0 agents unassigned!!\n"
     ]
    },
    {
     "name": "stderr",
     "output_type": "stream",
     "text": [
      "c:\\Users\\sjuul\\OneDrive\\Documenten\\EPA\\THESIS\\Thesis\\Model_Version3\\Model3.py:1126: FutureWarning: The 'seed' keyword is deprecated. Use 'rng' instead.\n",
      "  candidate_points = districts_polygon.sample_points(size=len(land_agents)*50, seed=seed)\n"
     ]
    },
    {
     "name": "stdout",
     "output_type": "stream",
     "text": [
      "shock is happening!!\n",
      "shock is happening!!\n",
      "There are 0 agents unassigned!!\n"
     ]
    },
    {
     "name": "stderr",
     "output_type": "stream",
     "text": [
      "c:\\Users\\sjuul\\OneDrive\\Documenten\\EPA\\THESIS\\Thesis\\Model_Version3\\Model3.py:1126: FutureWarning: The 'seed' keyword is deprecated. Use 'rng' instead.\n",
      "  candidate_points = districts_polygon.sample_points(size=len(land_agents)*50, seed=seed)\n"
     ]
    },
    {
     "name": "stdout",
     "output_type": "stream",
     "text": [
      "neighbor is rijk en neemt land over\n",
      "neighbor is rijk en neemt land over\n",
      "neighbor is rijk en neemt land over\n",
      "neighbor is rijk en neemt land over\n",
      "neighbor is rijk en neemt land over\n",
      "neighbor is rijk en neemt land over\n",
      "shock is happening!!\n",
      "neighbor is rijk en neemt land over\n",
      "shock is happening!!\n",
      "There are 0 agents unassigned!!\n"
     ]
    },
    {
     "name": "stderr",
     "output_type": "stream",
     "text": [
      "c:\\Users\\sjuul\\OneDrive\\Documenten\\EPA\\THESIS\\Thesis\\Model_Version3\\Model3.py:1126: FutureWarning: The 'seed' keyword is deprecated. Use 'rng' instead.\n",
      "  candidate_points = districts_polygon.sample_points(size=len(land_agents)*50, seed=seed)\n"
     ]
    },
    {
     "name": "stdout",
     "output_type": "stream",
     "text": [
      "shock is happening!!\n",
      "shock is happening!!\n",
      "There are 0 agents unassigned!!\n"
     ]
    },
    {
     "name": "stderr",
     "output_type": "stream",
     "text": [
      "c:\\Users\\sjuul\\OneDrive\\Documenten\\EPA\\THESIS\\Thesis\\Model_Version3\\Model3.py:1126: FutureWarning: The 'seed' keyword is deprecated. Use 'rng' instead.\n",
      "  candidate_points = districts_polygon.sample_points(size=len(land_agents)*50, seed=seed)\n"
     ]
    },
    {
     "name": "stdout",
     "output_type": "stream",
     "text": [
      "shock is happening!!\n",
      "shock is happening!!\n",
      "There are 0 agents unassigned!!\n"
     ]
    },
    {
     "name": "stderr",
     "output_type": "stream",
     "text": [
      "c:\\Users\\sjuul\\OneDrive\\Documenten\\EPA\\THESIS\\Thesis\\Model_Version3\\Model3.py:1126: FutureWarning: The 'seed' keyword is deprecated. Use 'rng' instead.\n",
      "  candidate_points = districts_polygon.sample_points(size=len(land_agents)*50, seed=seed)\n"
     ]
    },
    {
     "name": "stdout",
     "output_type": "stream",
     "text": [
      "neighbor is rijk en neemt land over\n",
      "shock is happening!!\n",
      "shock is happening!!\n",
      "There are 0 agents unassigned!!\n"
     ]
    },
    {
     "name": "stderr",
     "output_type": "stream",
     "text": [
      "c:\\Users\\sjuul\\OneDrive\\Documenten\\EPA\\THESIS\\Thesis\\Model_Version3\\Model3.py:1126: FutureWarning: The 'seed' keyword is deprecated. Use 'rng' instead.\n",
      "  candidate_points = districts_polygon.sample_points(size=len(land_agents)*50, seed=seed)\n"
     ]
    },
    {
     "name": "stdout",
     "output_type": "stream",
     "text": [
      "neighbor is rijk en neemt land over\n",
      "neighbor is rijk en neemt land over\n",
      "neighbor is rijk en neemt land over\n",
      "neighbor is rijk en neemt land over\n",
      "shock is happening!!\n",
      "shock is happening!!\n",
      "There are 0 agents unassigned!!\n"
     ]
    },
    {
     "name": "stderr",
     "output_type": "stream",
     "text": [
      "c:\\Users\\sjuul\\OneDrive\\Documenten\\EPA\\THESIS\\Thesis\\Model_Version3\\Model3.py:1126: FutureWarning: The 'seed' keyword is deprecated. Use 'rng' instead.\n",
      "  candidate_points = districts_polygon.sample_points(size=len(land_agents)*50, seed=seed)\n"
     ]
    },
    {
     "name": "stdout",
     "output_type": "stream",
     "text": [
      "neighbor is rijk en neemt land over\n",
      "shock is happening!!\n",
      "shock is happening!!\n",
      "There are 0 agents unassigned!!\n"
     ]
    },
    {
     "name": "stderr",
     "output_type": "stream",
     "text": [
      "c:\\Users\\sjuul\\OneDrive\\Documenten\\EPA\\THESIS\\Thesis\\Model_Version3\\Model3.py:1126: FutureWarning: The 'seed' keyword is deprecated. Use 'rng' instead.\n",
      "  candidate_points = districts_polygon.sample_points(size=len(land_agents)*50, seed=seed)\n"
     ]
    },
    {
     "name": "stdout",
     "output_type": "stream",
     "text": [
      "neighbor is rijk en neemt land over\n",
      "neighbor is rijk en neemt land over\n",
      "shock is happening!!\n",
      "shock is happening!!\n",
      "There are 0 agents unassigned!!\n"
     ]
    },
    {
     "name": "stderr",
     "output_type": "stream",
     "text": [
      "c:\\Users\\sjuul\\OneDrive\\Documenten\\EPA\\THESIS\\Thesis\\Model_Version3\\Model3.py:1126: FutureWarning: The 'seed' keyword is deprecated. Use 'rng' instead.\n",
      "  candidate_points = districts_polygon.sample_points(size=len(land_agents)*50, seed=seed)\n"
     ]
    },
    {
     "name": "stdout",
     "output_type": "stream",
     "text": [
      "neighbor is rijk en neemt land over\n",
      "neighbor is rijk en neemt land over\n",
      "neighbor is rijk en neemt land over\n",
      "neighbor is rijk en neemt land over\n",
      "shock is happening!!\n",
      "shock is happening!!\n",
      "There are 0 agents unassigned!!\n"
     ]
    },
    {
     "name": "stderr",
     "output_type": "stream",
     "text": [
      "c:\\Users\\sjuul\\OneDrive\\Documenten\\EPA\\THESIS\\Thesis\\Model_Version3\\Model3.py:1126: FutureWarning: The 'seed' keyword is deprecated. Use 'rng' instead.\n",
      "  candidate_points = districts_polygon.sample_points(size=len(land_agents)*50, seed=seed)\n"
     ]
    },
    {
     "name": "stdout",
     "output_type": "stream",
     "text": [
      "neighbor is rijk en neemt land over\n",
      "neighbor is rijk en neemt land over\n",
      "neighbor is rijk en neemt land over\n",
      "neighbor is rijk en neemt land over\n",
      "shock is happening!!\n",
      "shock is happening!!\n",
      "There are 0 agents unassigned!!\n"
     ]
    },
    {
     "name": "stderr",
     "output_type": "stream",
     "text": [
      "c:\\Users\\sjuul\\OneDrive\\Documenten\\EPA\\THESIS\\Thesis\\Model_Version3\\Model3.py:1126: FutureWarning: The 'seed' keyword is deprecated. Use 'rng' instead.\n",
      "  candidate_points = districts_polygon.sample_points(size=len(land_agents)*50, seed=seed)\n"
     ]
    },
    {
     "name": "stdout",
     "output_type": "stream",
     "text": [
      "shock is happening!!\n",
      "shock is happening!!\n",
      "There are 0 agents unassigned!!\n"
     ]
    },
    {
     "name": "stderr",
     "output_type": "stream",
     "text": [
      "c:\\Users\\sjuul\\OneDrive\\Documenten\\EPA\\THESIS\\Thesis\\Model_Version3\\Model3.py:1126: FutureWarning: The 'seed' keyword is deprecated. Use 'rng' instead.\n",
      "  candidate_points = districts_polygon.sample_points(size=len(land_agents)*50, seed=seed)\n"
     ]
    },
    {
     "name": "stdout",
     "output_type": "stream",
     "text": [
      "neighbor is rijk en neemt land over\n",
      "neighbor is rijk en neemt land over\n",
      "neighbor is rijk en neemt land over\n",
      "neighbor is rijk en neemt land over\n",
      "neighbor is rijk en neemt land over\n",
      "neighbor is rijk en neemt land over\n",
      "shock is happening!!\n",
      "neighbor is rijk en neemt land over\n",
      "shock is happening!!\n",
      "There are 0 agents unassigned!!\n"
     ]
    },
    {
     "name": "stderr",
     "output_type": "stream",
     "text": [
      "c:\\Users\\sjuul\\OneDrive\\Documenten\\EPA\\THESIS\\Thesis\\Model_Version3\\Model3.py:1126: FutureWarning: The 'seed' keyword is deprecated. Use 'rng' instead.\n",
      "  candidate_points = districts_polygon.sample_points(size=len(land_agents)*50, seed=seed)\n"
     ]
    },
    {
     "name": "stdout",
     "output_type": "stream",
     "text": [
      "shock is happening!!\n",
      "shock is happening!!\n",
      "There are 0 agents unassigned!!\n"
     ]
    },
    {
     "name": "stderr",
     "output_type": "stream",
     "text": [
      "c:\\Users\\sjuul\\OneDrive\\Documenten\\EPA\\THESIS\\Thesis\\Model_Version3\\Model3.py:1126: FutureWarning: The 'seed' keyword is deprecated. Use 'rng' instead.\n",
      "  candidate_points = districts_polygon.sample_points(size=len(land_agents)*50, seed=seed)\n"
     ]
    },
    {
     "name": "stdout",
     "output_type": "stream",
     "text": [
      "shock is happening!!\n",
      "shock is happening!!\n",
      "There are 0 agents unassigned!!\n"
     ]
    },
    {
     "name": "stderr",
     "output_type": "stream",
     "text": [
      "c:\\Users\\sjuul\\OneDrive\\Documenten\\EPA\\THESIS\\Thesis\\Model_Version3\\Model3.py:1126: FutureWarning: The 'seed' keyword is deprecated. Use 'rng' instead.\n",
      "  candidate_points = districts_polygon.sample_points(size=len(land_agents)*50, seed=seed)\n"
     ]
    },
    {
     "name": "stdout",
     "output_type": "stream",
     "text": [
      "shock is happening!!\n",
      "shock is happening!!\n",
      "There are 0 agents unassigned!!\n"
     ]
    },
    {
     "name": "stderr",
     "output_type": "stream",
     "text": [
      "c:\\Users\\sjuul\\OneDrive\\Documenten\\EPA\\THESIS\\Thesis\\Model_Version3\\Model3.py:1126: FutureWarning: The 'seed' keyword is deprecated. Use 'rng' instead.\n",
      "  candidate_points = districts_polygon.sample_points(size=len(land_agents)*50, seed=seed)\n"
     ]
    },
    {
     "name": "stdout",
     "output_type": "stream",
     "text": [
      "neighbor is rijk en neemt land over\n",
      "shock is happening!!\n",
      "shock is happening!!\n",
      "There are 0 agents unassigned!!\n"
     ]
    },
    {
     "name": "stderr",
     "output_type": "stream",
     "text": [
      "c:\\Users\\sjuul\\OneDrive\\Documenten\\EPA\\THESIS\\Thesis\\Model_Version3\\Model3.py:1126: FutureWarning: The 'seed' keyword is deprecated. Use 'rng' instead.\n",
      "  candidate_points = districts_polygon.sample_points(size=len(land_agents)*50, seed=seed)\n"
     ]
    },
    {
     "name": "stdout",
     "output_type": "stream",
     "text": [
      "neighbor is rijk en neemt land over\n",
      "shock is happening!!\n",
      "shock is happening!!\n",
      "There are 0 agents unassigned!!\n"
     ]
    },
    {
     "name": "stderr",
     "output_type": "stream",
     "text": [
      "c:\\Users\\sjuul\\OneDrive\\Documenten\\EPA\\THESIS\\Thesis\\Model_Version3\\Model3.py:1126: FutureWarning: The 'seed' keyword is deprecated. Use 'rng' instead.\n",
      "  candidate_points = districts_polygon.sample_points(size=len(land_agents)*50, seed=seed)\n"
     ]
    },
    {
     "name": "stdout",
     "output_type": "stream",
     "text": [
      "shock is happening!!\n",
      "shock is happening!!\n",
      "There are 0 agents unassigned!!\n"
     ]
    },
    {
     "name": "stderr",
     "output_type": "stream",
     "text": [
      "c:\\Users\\sjuul\\OneDrive\\Documenten\\EPA\\THESIS\\Thesis\\Model_Version3\\Model3.py:1126: FutureWarning: The 'seed' keyword is deprecated. Use 'rng' instead.\n",
      "  candidate_points = districts_polygon.sample_points(size=len(land_agents)*50, seed=seed)\n"
     ]
    },
    {
     "name": "stdout",
     "output_type": "stream",
     "text": [
      "neighbor is rijk en neemt land over\n",
      "neighbor is rijk en neemt land over\n",
      "neighbor is rijk en neemt land over\n",
      "neighbor is rijk en neemt land over\n",
      "shock is happening!!\n",
      "shock is happening!!\n",
      "There are 0 agents unassigned!!\n"
     ]
    },
    {
     "name": "stderr",
     "output_type": "stream",
     "text": [
      "c:\\Users\\sjuul\\OneDrive\\Documenten\\EPA\\THESIS\\Thesis\\Model_Version3\\Model3.py:1126: FutureWarning: The 'seed' keyword is deprecated. Use 'rng' instead.\n",
      "  candidate_points = districts_polygon.sample_points(size=len(land_agents)*50, seed=seed)\n"
     ]
    },
    {
     "name": "stdout",
     "output_type": "stream",
     "text": [
      "neighbor is rijk en neemt land over\n",
      "neighbor is rijk en neemt land over\n",
      "shock is happening!!\n",
      "shock is happening!!\n",
      "There are 0 agents unassigned!!\n"
     ]
    },
    {
     "name": "stderr",
     "output_type": "stream",
     "text": [
      "c:\\Users\\sjuul\\OneDrive\\Documenten\\EPA\\THESIS\\Thesis\\Model_Version3\\Model3.py:1126: FutureWarning: The 'seed' keyword is deprecated. Use 'rng' instead.\n",
      "  candidate_points = districts_polygon.sample_points(size=len(land_agents)*50, seed=seed)\n"
     ]
    },
    {
     "name": "stdout",
     "output_type": "stream",
     "text": [
      "shock is happening!!\n",
      "shock is happening!!\n",
      "There are 0 agents unassigned!!\n"
     ]
    },
    {
     "name": "stderr",
     "output_type": "stream",
     "text": [
      "c:\\Users\\sjuul\\OneDrive\\Documenten\\EPA\\THESIS\\Thesis\\Model_Version3\\Model3.py:1126: FutureWarning: The 'seed' keyword is deprecated. Use 'rng' instead.\n",
      "  candidate_points = districts_polygon.sample_points(size=len(land_agents)*50, seed=seed)\n"
     ]
    },
    {
     "name": "stdout",
     "output_type": "stream",
     "text": [
      "neighbor is rijk en neemt land over\n",
      "neighbor is rijk en neemt land over\n",
      "neighbor is rijk en neemt land over\n",
      "shock is happening!!\n",
      "shock is happening!!\n",
      "There are 0 agents unassigned!!\n"
     ]
    },
    {
     "name": "stderr",
     "output_type": "stream",
     "text": [
      "c:\\Users\\sjuul\\OneDrive\\Documenten\\EPA\\THESIS\\Thesis\\Model_Version3\\Model3.py:1126: FutureWarning: The 'seed' keyword is deprecated. Use 'rng' instead.\n",
      "  candidate_points = districts_polygon.sample_points(size=len(land_agents)*50, seed=seed)\n"
     ]
    },
    {
     "name": "stdout",
     "output_type": "stream",
     "text": [
      "shock is happening!!\n",
      "shock is happening!!\n",
      "There are 0 agents unassigned!!\n"
     ]
    },
    {
     "name": "stderr",
     "output_type": "stream",
     "text": [
      "c:\\Users\\sjuul\\OneDrive\\Documenten\\EPA\\THESIS\\Thesis\\Model_Version3\\Model3.py:1126: FutureWarning: The 'seed' keyword is deprecated. Use 'rng' instead.\n",
      "  candidate_points = districts_polygon.sample_points(size=len(land_agents)*50, seed=seed)\n"
     ]
    },
    {
     "name": "stdout",
     "output_type": "stream",
     "text": [
      "neighbor is rijk en neemt land over\n",
      "neighbor is rijk en neemt land over\n",
      "neighbor is rijk en neemt land over\n",
      "shock is happening!!\n",
      "shock is happening!!\n"
     ]
    }
   ],
   "source": [
    "df_low = run_scenario_full(\"Low salinity\", salinity_low=True, salinity_high=False)\n",
    "df_medium = run_scenario_full(\"Medium salinity\", salinity_low=False, salinity_high=False)\n",
    "df_high = run_scenario_full(\"High salinity\", salinity_low=False, salinity_high=True)\n",
    "\n",
    "all_full = pd.concat([df_low, df_medium, df_high], ignore_index=True)\n"
   ]
  },
  {
   "cell_type": "code",
   "execution_count": null,
   "id": "259ebcc5",
   "metadata": {},
   "outputs": [
    {
     "data": {
      "image/png": "[encoded data removed]",
      "text/plain": [
       "<Figure size 1000x600 with 1 Axes>"
      ]
     },
     "metadata": {},
     "output_type": "display_data"
    }
   ],
   "source": [
    "import matplotlib.pyplot as plt\n",
    "import seaborn as sns\n",
    "\n",
    "# Zet crop counts in long format voor eenvoudige boxplots\n",
    "crop_long =all_full.melt(\n",
    "    id_vars=[\"Scenario\"],\n",
    "    value_vars=[\"Rice\", \"Annual crops\", \"Perennial crops\", \"Aquaculture\"],\n",
    "    var_name=\"Crop Type\",\n",
    "    value_name=\"Count\"\n",
    ")\n",
    "\n",
    "plt.figure(figsize=(10, 6))\n",
    "sns.boxplot(data=crop_long, x=\"Crop Type\", y=\"Count\", hue=\"Scenario\")\n",
    "plt.title(\"Aantal Agents per Crop Type op Step 300\")\n",
    "plt.ylabel(\"Aantal Agents\")\n",
    "plt.xlabel(\"Crop Type\")\n",
    "plt.legend(title=\"Scenario\")\n",
    "plt.tight_layout()\n",
    "plt.show()\n"
   ]
  },
  {
   "cell_type": "code",
   "execution_count": 18,
   "id": "3f51e535",
   "metadata": {},
   "outputs": [
    {
     "data": {
      "text/html": [
       "<div>\n",
       "<style scoped>\n",
       "    .dataframe tbody tr th:only-of-type {\n",
       "        vertical-align: middle;\n",
       "    }\n",
       "\n",
       "    .dataframe tbody tr th {\n",
       "        vertical-align: top;\n",
       "    }\n",
       "\n",
       "    .dataframe thead th {\n",
       "        text-align: right;\n",
       "    }\n",
       "</style>\n",
       "<table border=\"1\" class=\"dataframe\">\n",
       "  <thead>\n",
       "    <tr style=\"text-align: right;\">\n",
       "      <th></th>\n",
       "      <th>Scenario</th>\n",
       "      <th>Seed</th>\n",
       "      <th>Rice</th>\n",
       "      <th>Annual crops</th>\n",
       "      <th>Perennial crops</th>\n",
       "      <th>Aquaculture</th>\n",
       "      <th>Migrated_households</th>\n",
       "      <th>Died agents</th>\n",
       "      <th>Child births</th>\n",
       "      <th>Average_Livelihood</th>\n",
       "    </tr>\n",
       "  </thead>\n",
       "  <tbody>\n",
       "    <tr>\n",
       "      <th>0</th>\n",
       "      <td>Low salinity</td>\n",
       "      <td>0</td>\n",
       "      <td>16</td>\n",
       "      <td>52</td>\n",
       "      <td>0</td>\n",
       "      <td>0</td>\n",
       "      <td>None</td>\n",
       "      <td>None</td>\n",
       "      <td>None</td>\n",
       "      <td>None</td>\n",
       "    </tr>\n",
       "    <tr>\n",
       "      <th>1</th>\n",
       "      <td>Low salinity</td>\n",
       "      <td>1</td>\n",
       "      <td>21</td>\n",
       "      <td>36</td>\n",
       "      <td>0</td>\n",
       "      <td>0</td>\n",
       "      <td>None</td>\n",
       "      <td>None</td>\n",
       "      <td>None</td>\n",
       "      <td>None</td>\n",
       "    </tr>\n",
       "    <tr>\n",
       "      <th>2</th>\n",
       "      <td>Low salinity</td>\n",
       "      <td>2</td>\n",
       "      <td>23</td>\n",
       "      <td>51</td>\n",
       "      <td>0</td>\n",
       "      <td>0</td>\n",
       "      <td>None</td>\n",
       "      <td>None</td>\n",
       "      <td>None</td>\n",
       "      <td>None</td>\n",
       "    </tr>\n",
       "    <tr>\n",
       "      <th>3</th>\n",
       "      <td>Low salinity</td>\n",
       "      <td>3</td>\n",
       "      <td>24</td>\n",
       "      <td>48</td>\n",
       "      <td>0</td>\n",
       "      <td>0</td>\n",
       "      <td>None</td>\n",
       "      <td>None</td>\n",
       "      <td>None</td>\n",
       "      <td>None</td>\n",
       "    </tr>\n",
       "    <tr>\n",
       "      <th>4</th>\n",
       "      <td>Low salinity</td>\n",
       "      <td>4</td>\n",
       "      <td>22</td>\n",
       "      <td>50</td>\n",
       "      <td>1</td>\n",
       "      <td>0</td>\n",
       "      <td>None</td>\n",
       "      <td>None</td>\n",
       "      <td>None</td>\n",
       "      <td>None</td>\n",
       "    </tr>\n",
       "    <tr>\n",
       "      <th>5</th>\n",
       "      <td>Low salinity</td>\n",
       "      <td>5</td>\n",
       "      <td>18</td>\n",
       "      <td>59</td>\n",
       "      <td>0</td>\n",
       "      <td>0</td>\n",
       "      <td>None</td>\n",
       "      <td>None</td>\n",
       "      <td>None</td>\n",
       "      <td>None</td>\n",
       "    </tr>\n",
       "    <tr>\n",
       "      <th>6</th>\n",
       "      <td>Low salinity</td>\n",
       "      <td>6</td>\n",
       "      <td>21</td>\n",
       "      <td>56</td>\n",
       "      <td>0</td>\n",
       "      <td>0</td>\n",
       "      <td>None</td>\n",
       "      <td>None</td>\n",
       "      <td>None</td>\n",
       "      <td>None</td>\n",
       "    </tr>\n",
       "    <tr>\n",
       "      <th>7</th>\n",
       "      <td>Low salinity</td>\n",
       "      <td>7</td>\n",
       "      <td>18</td>\n",
       "      <td>44</td>\n",
       "      <td>0</td>\n",
       "      <td>0</td>\n",
       "      <td>None</td>\n",
       "      <td>None</td>\n",
       "      <td>None</td>\n",
       "      <td>None</td>\n",
       "    </tr>\n",
       "    <tr>\n",
       "      <th>8</th>\n",
       "      <td>Low salinity</td>\n",
       "      <td>8</td>\n",
       "      <td>21</td>\n",
       "      <td>47</td>\n",
       "      <td>0</td>\n",
       "      <td>0</td>\n",
       "      <td>None</td>\n",
       "      <td>None</td>\n",
       "      <td>None</td>\n",
       "      <td>None</td>\n",
       "    </tr>\n",
       "    <tr>\n",
       "      <th>9</th>\n",
       "      <td>Low salinity</td>\n",
       "      <td>9</td>\n",
       "      <td>17</td>\n",
       "      <td>51</td>\n",
       "      <td>0</td>\n",
       "      <td>0</td>\n",
       "      <td>None</td>\n",
       "      <td>None</td>\n",
       "      <td>None</td>\n",
       "      <td>None</td>\n",
       "    </tr>\n",
       "    <tr>\n",
       "      <th>10</th>\n",
       "      <td>Medium salinity</td>\n",
       "      <td>0</td>\n",
       "      <td>12</td>\n",
       "      <td>51</td>\n",
       "      <td>3</td>\n",
       "      <td>0</td>\n",
       "      <td>None</td>\n",
       "      <td>None</td>\n",
       "      <td>None</td>\n",
       "      <td>None</td>\n",
       "    </tr>\n",
       "    <tr>\n",
       "      <th>11</th>\n",
       "      <td>Medium salinity</td>\n",
       "      <td>1</td>\n",
       "      <td>17</td>\n",
       "      <td>35</td>\n",
       "      <td>3</td>\n",
       "      <td>0</td>\n",
       "      <td>None</td>\n",
       "      <td>None</td>\n",
       "      <td>None</td>\n",
       "      <td>None</td>\n",
       "    </tr>\n",
       "    <tr>\n",
       "      <th>12</th>\n",
       "      <td>Medium salinity</td>\n",
       "      <td>2</td>\n",
       "      <td>14</td>\n",
       "      <td>49</td>\n",
       "      <td>10</td>\n",
       "      <td>0</td>\n",
       "      <td>None</td>\n",
       "      <td>None</td>\n",
       "      <td>None</td>\n",
       "      <td>None</td>\n",
       "    </tr>\n",
       "    <tr>\n",
       "      <th>13</th>\n",
       "      <td>Medium salinity</td>\n",
       "      <td>3</td>\n",
       "      <td>11</td>\n",
       "      <td>47</td>\n",
       "      <td>7</td>\n",
       "      <td>0</td>\n",
       "      <td>None</td>\n",
       "      <td>None</td>\n",
       "      <td>None</td>\n",
       "      <td>None</td>\n",
       "    </tr>\n",
       "    <tr>\n",
       "      <th>14</th>\n",
       "      <td>Medium salinity</td>\n",
       "      <td>4</td>\n",
       "      <td>20</td>\n",
       "      <td>50</td>\n",
       "      <td>2</td>\n",
       "      <td>0</td>\n",
       "      <td>None</td>\n",
       "      <td>None</td>\n",
       "      <td>None</td>\n",
       "      <td>None</td>\n",
       "    </tr>\n",
       "    <tr>\n",
       "      <th>15</th>\n",
       "      <td>Medium salinity</td>\n",
       "      <td>5</td>\n",
       "      <td>16</td>\n",
       "      <td>60</td>\n",
       "      <td>2</td>\n",
       "      <td>0</td>\n",
       "      <td>None</td>\n",
       "      <td>None</td>\n",
       "      <td>None</td>\n",
       "      <td>None</td>\n",
       "    </tr>\n",
       "    <tr>\n",
       "      <th>16</th>\n",
       "      <td>Medium salinity</td>\n",
       "      <td>6</td>\n",
       "      <td>15</td>\n",
       "      <td>54</td>\n",
       "      <td>5</td>\n",
       "      <td>0</td>\n",
       "      <td>None</td>\n",
       "      <td>None</td>\n",
       "      <td>None</td>\n",
       "      <td>None</td>\n",
       "    </tr>\n",
       "    <tr>\n",
       "      <th>17</th>\n",
       "      <td>Medium salinity</td>\n",
       "      <td>7</td>\n",
       "      <td>17</td>\n",
       "      <td>44</td>\n",
       "      <td>2</td>\n",
       "      <td>0</td>\n",
       "      <td>None</td>\n",
       "      <td>None</td>\n",
       "      <td>None</td>\n",
       "      <td>None</td>\n",
       "    </tr>\n",
       "    <tr>\n",
       "      <th>18</th>\n",
       "      <td>Medium salinity</td>\n",
       "      <td>8</td>\n",
       "      <td>11</td>\n",
       "      <td>45</td>\n",
       "      <td>7</td>\n",
       "      <td>0</td>\n",
       "      <td>None</td>\n",
       "      <td>None</td>\n",
       "      <td>None</td>\n",
       "      <td>None</td>\n",
       "    </tr>\n",
       "    <tr>\n",
       "      <th>19</th>\n",
       "      <td>Medium salinity</td>\n",
       "      <td>9</td>\n",
       "      <td>11</td>\n",
       "      <td>51</td>\n",
       "      <td>4</td>\n",
       "      <td>0</td>\n",
       "      <td>None</td>\n",
       "      <td>None</td>\n",
       "      <td>None</td>\n",
       "      <td>None</td>\n",
       "    </tr>\n",
       "    <tr>\n",
       "      <th>20</th>\n",
       "      <td>High salinity</td>\n",
       "      <td>0</td>\n",
       "      <td>4</td>\n",
       "      <td>35</td>\n",
       "      <td>2</td>\n",
       "      <td>0</td>\n",
       "      <td>None</td>\n",
       "      <td>None</td>\n",
       "      <td>None</td>\n",
       "      <td>None</td>\n",
       "    </tr>\n",
       "    <tr>\n",
       "      <th>21</th>\n",
       "      <td>High salinity</td>\n",
       "      <td>1</td>\n",
       "      <td>6</td>\n",
       "      <td>28</td>\n",
       "      <td>2</td>\n",
       "      <td>1</td>\n",
       "      <td>None</td>\n",
       "      <td>None</td>\n",
       "      <td>None</td>\n",
       "      <td>None</td>\n",
       "    </tr>\n",
       "    <tr>\n",
       "      <th>22</th>\n",
       "      <td>High salinity</td>\n",
       "      <td>2</td>\n",
       "      <td>7</td>\n",
       "      <td>36</td>\n",
       "      <td>2</td>\n",
       "      <td>0</td>\n",
       "      <td>None</td>\n",
       "      <td>None</td>\n",
       "      <td>None</td>\n",
       "      <td>None</td>\n",
       "    </tr>\n",
       "    <tr>\n",
       "      <th>23</th>\n",
       "      <td>High salinity</td>\n",
       "      <td>3</td>\n",
       "      <td>2</td>\n",
       "      <td>40</td>\n",
       "      <td>5</td>\n",
       "      <td>0</td>\n",
       "      <td>None</td>\n",
       "      <td>None</td>\n",
       "      <td>None</td>\n",
       "      <td>None</td>\n",
       "    </tr>\n",
       "    <tr>\n",
       "      <th>24</th>\n",
       "      <td>High salinity</td>\n",
       "      <td>4</td>\n",
       "      <td>6</td>\n",
       "      <td>36</td>\n",
       "      <td>3</td>\n",
       "      <td>1</td>\n",
       "      <td>None</td>\n",
       "      <td>None</td>\n",
       "      <td>None</td>\n",
       "      <td>None</td>\n",
       "    </tr>\n",
       "    <tr>\n",
       "      <th>25</th>\n",
       "      <td>High salinity</td>\n",
       "      <td>5</td>\n",
       "      <td>2</td>\n",
       "      <td>40</td>\n",
       "      <td>5</td>\n",
       "      <td>2</td>\n",
       "      <td>None</td>\n",
       "      <td>None</td>\n",
       "      <td>None</td>\n",
       "      <td>None</td>\n",
       "    </tr>\n",
       "    <tr>\n",
       "      <th>26</th>\n",
       "      <td>High salinity</td>\n",
       "      <td>6</td>\n",
       "      <td>2</td>\n",
       "      <td>34</td>\n",
       "      <td>3</td>\n",
       "      <td>0</td>\n",
       "      <td>None</td>\n",
       "      <td>None</td>\n",
       "      <td>None</td>\n",
       "      <td>None</td>\n",
       "    </tr>\n",
       "    <tr>\n",
       "      <th>27</th>\n",
       "      <td>High salinity</td>\n",
       "      <td>7</td>\n",
       "      <td>5</td>\n",
       "      <td>34</td>\n",
       "      <td>3</td>\n",
       "      <td>0</td>\n",
       "      <td>None</td>\n",
       "      <td>None</td>\n",
       "      <td>None</td>\n",
       "      <td>None</td>\n",
       "    </tr>\n",
       "    <tr>\n",
       "      <th>28</th>\n",
       "      <td>High salinity</td>\n",
       "      <td>8</td>\n",
       "      <td>2</td>\n",
       "      <td>39</td>\n",
       "      <td>1</td>\n",
       "      <td>0</td>\n",
       "      <td>None</td>\n",
       "      <td>None</td>\n",
       "      <td>None</td>\n",
       "      <td>None</td>\n",
       "    </tr>\n",
       "    <tr>\n",
       "      <th>29</th>\n",
       "      <td>High salinity</td>\n",
       "      <td>9</td>\n",
       "      <td>5</td>\n",
       "      <td>37</td>\n",
       "      <td>3</td>\n",
       "      <td>2</td>\n",
       "      <td>None</td>\n",
       "      <td>None</td>\n",
       "      <td>None</td>\n",
       "      <td>None</td>\n",
       "    </tr>\n",
       "  </tbody>\n",
       "</table>\n",
       "</div>"
      ],
      "text/plain": [
       "           Scenario  Seed  Rice  Annual crops  Perennial crops  Aquaculture  \\\n",
       "0      Low salinity     0    16            52                0            0   \n",
       "1      Low salinity     1    21            36                0            0   \n",
       "2      Low salinity     2    23            51                0            0   \n",
       "3      Low salinity     3    24            48                0            0   \n",
       "4      Low salinity     4    22            50                1            0   \n",
       "5      Low salinity     5    18            59                0            0   \n",
       "6      Low salinity     6    21            56                0            0   \n",
       "7      Low salinity     7    18            44                0            0   \n",
       "8      Low salinity     8    21            47                0            0   \n",
       "9      Low salinity     9    17            51                0            0   \n",
       "10  Medium salinity     0    12            51                3            0   \n",
       "11  Medium salinity     1    17            35                3            0   \n",
       "12  Medium salinity     2    14            49               10            0   \n",
       "13  Medium salinity     3    11            47                7            0   \n",
       "14  Medium salinity     4    20            50                2            0   \n",
       "15  Medium salinity     5    16            60                2            0   \n",
       "16  Medium salinity     6    15            54                5            0   \n",
       "17  Medium salinity     7    17            44                2            0   \n",
       "18  Medium salinity     8    11            45                7            0   \n",
       "19  Medium salinity     9    11            51                4            0   \n",
       "20    High salinity     0     4            35                2            0   \n",
       "21    High salinity     1     6            28                2            1   \n",
       "22    High salinity     2     7            36                2            0   \n",
       "23    High salinity     3     2            40                5            0   \n",
       "24    High salinity     4     6            36                3            1   \n",
       "25    High salinity     5     2            40                5            2   \n",
       "26    High salinity     6     2            34                3            0   \n",
       "27    High salinity     7     5            34                3            0   \n",
       "28    High salinity     8     2            39                1            0   \n",
       "29    High salinity     9     5            37                3            2   \n",
       "\n",
       "   Migrated_households Died agents Child births Average_Livelihood  \n",
       "0                 None        None         None               None  \n",
       "1                 None        None         None               None  \n",
       "2                 None        None         None               None  \n",
       "3                 None        None         None               None  \n",
       "4                 None        None         None               None  \n",
       "5                 None        None         None               None  \n",
       "6                 None        None         None               None  \n",
       "7                 None        None         None               None  \n",
       "8                 None        None         None               None  \n",
       "9                 None        None         None               None  \n",
       "10                None        None         None               None  \n",
       "11                None        None         None               None  \n",
       "12                None        None         None               None  \n",
       "13                None        None         None               None  \n",
       "14                None        None         None               None  \n",
       "15                None        None         None               None  \n",
       "16                None        None         None               None  \n",
       "17                None        None         None               None  \n",
       "18                None        None         None               None  \n",
       "19                None        None         None               None  \n",
       "20                None        None         None               None  \n",
       "21                None        None         None               None  \n",
       "22                None        None         None               None  \n",
       "23                None        None         None               None  \n",
       "24                None        None         None               None  \n",
       "25                None        None         None               None  \n",
       "26                None        None         None               None  \n",
       "27                None        None         None               None  \n",
       "28                None        None         None               None  \n",
       "29                None        None         None               None  "
      ]
     },
     "execution_count": 18,
     "metadata": {},
     "output_type": "execute_result"
    }
   ],
   "source": [
    "all_full\n"
   ]
  },
  {
   "cell_type": "code",
   "execution_count": null,
   "id": "53f55d92",
   "metadata": {},
   "outputs": [],
   "source": []
  }
 ],
 "metadata": {
  "kernelspec": {
   "display_name": "afstuderen2025",
   "language": "python",
   "name": "python3"
  },
  "language_info": {
   "codemirror_mode": {
    "name": "ipython",
    "version": 3
   },
   "file_extension": ".py",
   "mimetype": "text/x-python",
   "name": "python",
   "nbconvert_exporter": "python",
   "pygments_lexer": "ipython3",
   "version": "3.13.2"
  }
 },
 "nbformat": 4,
 "nbformat_minor": 5
}
