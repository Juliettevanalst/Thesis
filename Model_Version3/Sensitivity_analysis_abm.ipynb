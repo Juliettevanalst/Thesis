{
 "cells": [
  {
   "cell_type": "markdown",
   "id": "518e8734",
   "metadata": {},
   "source": [
    "## Sensitivity analysis ABM\n",
    "Univariate sensitivity analysis conducted for the machines, education level, wage worker salary, and fixed costs of rice, maize, shrimp, and coconut farmers. Since the batchrunner is slow due to the datacollector, it is recommended to first look at the required variables, and then select those in the model3.py file in line 230-350. "
   ]
  },
  {
   "cell_type": "code",
   "execution_count": null,
   "id": "2a377939",
   "metadata": {},
   "outputs": [],
   "source": [
    "import pandas as pd\n",
    "import numpy as np\n",
    "from mesa import batch_run\n",
    "from Model3 import RiverDeltaModel\n",
    "\n",
    "# Number of runs per parameter\n",
    "N = 100\n",
    "\n",
    "# Set up the parameter values\n",
    "machine_values = np.linspace(0, 1, N)\n",
    "education_values = np.linspace(0, 1, N)\n",
    "ww_salary_values = np.linspace(0, 2, N)\n",
    "fixed_costs_rice_values = np.linspace(0, 32000000, N)\n",
    "fixed_costs_maize_values = np.linspace(0, 7000000, N)\n",
    "fixed_costs_coconut_values = np.linspace(0, 40000000, N)\n",
    "fixed_costs_shrimp_values = np.linspace(0, 8000000, N)\n",
    "\n",
    "# Create a function to run the sensitivity analysis\n",
    "def run_sensitivity(param_name, values):\n",
    "    # Set base value\n",
    "    fixed_params = {\n",
    "        \"machines_experiment\": 2,\n",
    "        \"education_level\": 2,\n",
    "        \"ww_salary_increase\":1,\n",
    "        \"fixed_costs_rice\" : 15900000,\n",
    "        \"fixed_costs_maize\" : 3400000,\n",
    "        \"fixed_costs_coconut\": 20000000,\n",
    "        \"fixed_costs_shrimp\" : 3900000\n",
    "    }\n",
    "\n",
    "    # change the chosen parameter value to the values, while keeping the other values constant\n",
    "    fixed_params[param_name] = values\n",
    "\n",
    "    # Run the model with 1 iteration, and save the data at the last step\n",
    "    result = batch_run(\n",
    "        RiverDeltaModel,\n",
    "        parameters=fixed_params,\n",
    "        iterations=1,              # 1 run per parameter \n",
    "        max_steps=300,\n",
    "        number_processes=8,\n",
    "        data_collection_period=300,\n",
    "        display_progress=True,\n",
    "    )\n",
    "\n",
    "    # Create a dataframe with the result\n",
    "    df = pd.DataFrame(result)\n",
    "    return df\n",
    "\n"
   ]
  },
  {
   "cell_type": "code",
   "execution_count": null,
   "id": "dd8328c8",
   "metadata": {},
   "outputs": [],
   "source": [
    "# Sensitivity for machines\n",
    "df_machines = run_sensitivity(\"machines_experiment\", machine_values)\n",
    "\n",
    "# Sensitivity for education_level\n",
    "df_education = run_sensitivity(\"education_level\", education_values)\n",
    "\n",
    "# Sensitivity for ww_salary\n",
    "df_ww_salary = run_sensitivity(\"ww_salary_increase\", ww_salary_values)\n",
    "\n",
    "# Sensitivity for fixed costs per crop\n",
    "df_fixed_rice = run_sensitivity(\"fixed_costs_rice\", fixed_costs_rice_values)\n",
    "df_fixed_maize = run_sensitivity(\"fixed_costs_maize\", fixed_costs_maize_values)\n",
    "df_fixed_coconut = run_sensitivity(\"fixed_costs_coconut\", fixed_costs_coconut_values)\n",
    "df_fixed_shrimp = run_sensitivity(\"fixed_costs_shrimp\", fixed_costs_shrimp_values)\n"
   ]
  },
  {
   "cell_type": "markdown",
   "id": "52099c4b",
   "metadata": {},
   "source": [
    "### Number of migrations"
   ]
  },
  {
   "cell_type": "code",
   "execution_count": null,
   "id": "b3d49bd9",
   "metadata": {},
   "outputs": [],
   "source": [
    "import matplotlib.pyplot as plt\n",
    "import numpy as np\n",
    "import statsmodels.api as sm\n",
    "\n",
    "# Determine baseline values, these are used in the plots as a reference point\n",
    "baseline_values = {\n",
    "    \"machines_experiment\": 0.10,\n",
    "    \"education_level\": 0.32,\n",
    "    \"ww_salary_increase\": 1,\n",
    "    \"fixed_costs_rice\": 15900000,\n",
    "    \"fixed_costs_maize\": 3400000,\n",
    "    \"fixed_costs_coconut\": 20000000,\n",
    "    \"fixed_costs_shrimp\": 3900000\n",
    "}\n",
    "\n",
    "def plot_lowess(df, x_col, y_col=\"Migrated_households\", step_col=\"Step\", step_value=300, \n",
    "                title=None, xlabel=None, ylabel=\"Percentage migrated households\"):\n",
    "    \n",
    "    # Select the last timestep\n",
    "    df_filtered = df[df[step_col] == step_value]\n",
    "\n",
    "    # Determine x, y values\n",
    "    x = df_filtered[x_col]\n",
    "    y = (df_filtered[y_col] / 275)  # Set start number of households\n",
    "\n",
    "    # LOWESS smoothing\n",
    "    lowess = sm.nonparametric.lowess\n",
    "    smoothed = lowess(y, x, frac=0.2)\n",
    "\n",
    "    # Create a scatterplot\n",
    "    plt.figure(figsize=(8, 5))\n",
    "    plt.scatter(x, y, alpha=0.6, color=\"green\", label=\"Data\")\n",
    "    plt.plot(smoothed[:, 0], smoothed[:, 1], color=\"navy\", linewidth=2.5, label=\"LOWESS trend\")\n",
    "\n",
    "    # Verticale baseline for the base values\n",
    "    if x_col in baseline_values:\n",
    "        baseline_x = baseline_values[x_col]\n",
    "        plt.axvline(baseline_x, color=\"red\", linestyle=\"--\", linewidth=2, label=\"Baseline\")\n",
    "\n",
    "    plt.title(title if title else f\"{x_col} vs. {y_col}\")\n",
    "    plt.xlabel(xlabel if xlabel else x_col.replace(\"_\", \" \").title())\n",
    "    plt.ylabel(ylabel)\n",
    "    plt.grid(True)\n",
    "    plt.legend()\n",
    "    plt.tight_layout()\n",
    "    plt.ylim(0.15, 0.55)\n",
    "    plt.show()\n"
   ]
  },
  {
   "cell_type": "markdown",
   "id": "aef58299",
   "metadata": {},
   "source": [
    "### Plot all variables"
   ]
  },
  {
   "cell_type": "code",
   "execution_count": null,
   "id": "2adc2499",
   "metadata": {},
   "outputs": [],
   "source": [
    "# Create plots for all variables\n",
    "plot_lowess(df_machines, \"machines_experiment\", title=\"Effect of machine use on migration in ABM\", xlabel=\"Percentage people using machines\")\n",
    "\n",
    "plot_lowess(df_education, \"education_level\", title=\"Effect of education level on migration in ABM\", xlabel=\"Education Level\")\n",
    "\n",
    "plot_lowess(df_ww_salary, \"ww_salary_increase\", title=\"Effect of wage worker salary on migration in ABM\", xlabel=\"Percentage salary received\")\n",
    "\n",
    "plot_lowess(df_fixed_rice, \"fixed_costs_rice\", title=\"Effect of rice production costs on migration in ABM\", xlabel=\"Fixed crop costs (vnd)\")\n",
    "\n",
    "plot_lowess(df_fixed_maize, \"fixed_costs_maize\", title=\"Effect of maize production costs on migration in ABM\", xlabel=\"Fixed crop costs (vnd)\")\n",
    "\n",
    "plot_lowess(df_fixed_coconut, \"fixed_costs_coconut\", title=\"Effect of coconut production costs on migration in ABM\", xlabel=\"Fixed crop costs (vnd)\")\n",
    "\n",
    "plot_lowess(df_fixed_shrimp, \"fixed_costs_shrimp\", title=\"Effect of shrimp production costs on migration in ABM\", xlabel=\"Fixed crop costs (vnd)\")\n"
   ]
  },
  {
   "cell_type": "code",
   "execution_count": null,
   "id": "dd928997",
   "metadata": {},
   "outputs": [],
   "source": []
  }
 ],
 "metadata": {
  "kernelspec": {
   "display_name": "afstuderen2025",
   "language": "python",
   "name": "python3"
  },
  "language_info": {
   "codemirror_mode": {
    "name": "ipython",
    "version": 3
   },
   "file_extension": ".py",
   "mimetype": "text/x-python",
   "name": "python",
   "nbconvert_exporter": "python",
   "pygments_lexer": "ipython3",
   "version": "3.13.2"
  }
 },
 "nbformat": 4,
 "nbformat_minor": 5
}
